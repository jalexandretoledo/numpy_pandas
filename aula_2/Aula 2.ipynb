{
 "cells": [
  {
   "cell_type": "markdown",
   "metadata": {},
   "source": [
    "# NumPy & Pandas"
   ]
  },
  {
   "cell_type": "markdown",
   "metadata": {},
   "source": [
    "## NumPy"
   ]
  },
  {
   "cell_type": "markdown",
   "metadata": {},
   "source": [
    "Como está dito no próprio _site_ do `NumPy` (https://www.numpy.org/):\n",
    "\n",
    "_NumPy is the fundamental package for scientific computing with Python. It contains among other things:_\n",
    "\n",
    "   * _a powerful N-dimensional array object_\n",
    "   * _sophisticated (broadcasting) functions_\n",
    "   * _tools for integrating C/C++ and Fortran code_\n",
    "   * _useful linear algebra, Fourier transform, and random number capabilities_\n",
    "\n",
    "_Besides its obvious scientific uses, NumPy can also be used as an efficient multi-dimensional container of generic data._\n",
    "\n",
    "Em outras palavras, `NumPy` é uma biblioteca disponível em `Python` para manipulação de forma eficiente de matrizes multidimensionais."
   ]
  },
  {
   "cell_type": "markdown",
   "metadata": {},
   "source": [
    "Para usarmos o `NumPy` em nosso código, devemos antes importá-lo. É praxe fazê-lo da seguinte forma (para que possamos mais tarde nos referir a ele simplesmente como `np`):"
   ]
  },
  {
   "cell_type": "code",
   "execution_count": 1,
   "metadata": {},
   "outputs": [],
   "source": [
    "import numpy as np"
   ]
  },
  {
   "cell_type": "markdown",
   "metadata": {},
   "source": [
    "Para criar um `array` (uma matriz) do `NumPy` podemos executar este código:"
   ]
  },
  {
   "cell_type": "code",
   "execution_count": 2,
   "metadata": {},
   "outputs": [],
   "source": [
    "x = np.array([2, 3, 1, 0])"
   ]
  },
  {
   "cell_type": "markdown",
   "metadata": {},
   "source": [
    "E, para ver seu conteúdo, basta imprimi-lo:"
   ]
  },
  {
   "cell_type": "code",
   "execution_count": 3,
   "metadata": {},
   "outputs": [
    {
     "name": "stdout",
     "output_type": "stream",
     "text": [
      "[2 3 1 0]\n"
     ]
    }
   ],
   "source": [
    "print(x)"
   ]
  },
  {
   "cell_type": "markdown",
   "metadata": {},
   "source": [
    "Agora, uma matriz bidimensional:\n",
    "<img src=\"array.png\" />"
   ]
  },
  {
   "cell_type": "code",
   "execution_count": 4,
   "metadata": {},
   "outputs": [],
   "source": [
    "bidim = np.array([[1, 2, 3],\n",
    "                  [4, 5, 6],\n",
    "                  [7, 8, 9]])"
   ]
  },
  {
   "cell_type": "code",
   "execution_count": 5,
   "metadata": {},
   "outputs": [
    {
     "name": "stdout",
     "output_type": "stream",
     "text": [
      "[[1 2 3]\n",
      " [4 5 6]\n",
      " [7 8 9]]\n"
     ]
    }
   ],
   "source": [
    "print(bidim)"
   ]
  },
  {
   "cell_type": "markdown",
   "metadata": {},
   "source": [
    "Note o tipo do _array_ criado:"
   ]
  },
  {
   "cell_type": "code",
   "execution_count": 6,
   "metadata": {},
   "outputs": [
    {
     "data": {
      "text/plain": [
       "numpy.ndarray"
      ]
     },
     "execution_count": 6,
     "metadata": {},
     "output_type": "execute_result"
    }
   ],
   "source": [
    "type(bidim)"
   ]
  },
  {
   "cell_type": "markdown",
   "metadata": {},
   "source": [
    "Uma característica importante de matrizes (`arrays`) quando falamos em programação de computadores é o acesso eficiente a qualquer um de seus ítens: basta informar qual exatamente é a _\"célula\"_ desejada.\n",
    "\n",
    "Usando nossa matriz bidimensional criada anteriormente, para obtermos o valor na terceira coluna da segunda linha, basta usarmos:"
   ]
  },
  {
   "cell_type": "code",
   "execution_count": 7,
   "metadata": {},
   "outputs": [
    {
     "name": "stdout",
     "output_type": "stream",
     "text": [
      "6\n"
     ]
    }
   ],
   "source": [
    "# Lembre-se: em Python, começamos a \"contar\" a partir do Zero!\n",
    "print(bidim[1, 2])"
   ]
  },
  {
   "cell_type": "markdown",
   "metadata": {},
   "source": [
    "No decorrer do nosso treinamento, faremos pouco uso direto do `NumPy`: em geral, utilizaremos o `Pandas`, outra biblioteca disponível em `Python`, construída sobre a base do `NumPy`."
   ]
  },
  {
   "cell_type": "markdown",
   "metadata": {},
   "source": [
    "## Pandas"
   ]
  },
  {
   "cell_type": "markdown",
   "metadata": {},
   "source": [
    "`Pandas` é talvez a principal ferramenta quando se fala em _Data Science_ e `Python`. Utilizando os recursos do `NumPy`, ela oferece a estrutura de `DataFrames`, que de certa forma traz para o `Python` o conceito de __planilhas__ a que já estamos bastante acostumados após tantos anos utilizando o `Excel`."
   ]
  },
  {
   "cell_type": "markdown",
   "metadata": {},
   "source": [
    "Por padrão, importamos o `Pandas` em nossos programas como `pd`:"
   ]
  },
  {
   "cell_type": "code",
   "execution_count": 8,
   "metadata": {},
   "outputs": [],
   "source": [
    "import pandas as pd"
   ]
  },
  {
   "cell_type": "markdown",
   "metadata": {},
   "source": [
    "Antes de começarmos a utilizá-la, entretanto, é necessário que entendamos alguns conceitos:"
   ]
  },
  {
   "cell_type": "markdown",
   "metadata": {},
   "source": [
    "### Series\n",
    "\n",
    "Uma `Series` no `Pandas` nada mais é do que uma matriz unidimensional com um índice de acesso:\n",
    "\n",
    "<img src=\"serie.png\" />"
   ]
  },
  {
   "cell_type": "code",
   "execution_count": 9,
   "metadata": {},
   "outputs": [],
   "source": [
    "s = pd.Series([\"Um\", \"Dois\", \"Três\", \"Quatro\"])"
   ]
  },
  {
   "cell_type": "code",
   "execution_count": 10,
   "metadata": {},
   "outputs": [
    {
     "name": "stdout",
     "output_type": "stream",
     "text": [
      "0        Um\n",
      "1      Dois\n",
      "2      Três\n",
      "3    Quatro\n",
      "dtype: object\n"
     ]
    }
   ],
   "source": [
    "print(s)"
   ]
  },
  {
   "cell_type": "markdown",
   "metadata": {},
   "source": [
    "É importante notar aqui que há apenas uma dimensão (`Um`, `Dois`, `Três` e `Quatro`), e que o índice (`0`, `1`, `2` e `3`) não faz parte dos dados, mas apenas da identificação de cada ítem.\n",
    "\n",
    "O índice não precisa ser necessáriamente numérico: ele pode conter dicas mais úteis sobre o ítem que identifica:\n",
    "\n",
    "<img src=\"capitais.png\" />"
   ]
  },
  {
   "cell_type": "code",
   "execution_count": 11,
   "metadata": {},
   "outputs": [],
   "source": [
    "capitais = pd.Series([\"Brasília\", \"Berlim\", \"Londres\", \"Montevidéu\"],\n",
    "                     index=[\"Brasil\", \"Alemanha\", \"Inglaterra\", \"Uruguai\"])"
   ]
  },
  {
   "cell_type": "code",
   "execution_count": 12,
   "metadata": {},
   "outputs": [
    {
     "name": "stdout",
     "output_type": "stream",
     "text": [
      "Brasil          Brasília\n",
      "Alemanha          Berlim\n",
      "Inglaterra       Londres\n",
      "Uruguai       Montevidéu\n",
      "dtype: object\n"
     ]
    }
   ],
   "source": [
    "print(capitais)"
   ]
  },
  {
   "cell_type": "markdown",
   "metadata": {},
   "source": [
    "Também é possível acessar ítens individuais de uma `Series`:"
   ]
  },
  {
   "cell_type": "code",
   "execution_count": 13,
   "metadata": {},
   "outputs": [
    {
     "name": "stdout",
     "output_type": "stream",
     "text": [
      "Berlim\n"
     ]
    }
   ],
   "source": [
    "print(capitais['Alemanha'])"
   ]
  },
  {
   "cell_type": "markdown",
   "metadata": {},
   "source": [
    "Ou um _range_ de ítens consecutivos:"
   ]
  },
  {
   "cell_type": "code",
   "execution_count": 14,
   "metadata": {},
   "outputs": [
    {
     "name": "stdout",
     "output_type": "stream",
     "text": [
      "Alemanha       Berlim\n",
      "Inglaterra    Londres\n",
      "dtype: object\n"
     ]
    }
   ],
   "source": [
    "print(capitais['Alemanha':'Inglaterra'])"
   ]
  },
  {
   "cell_type": "markdown",
   "metadata": {},
   "source": [
    "Assim como com listas e outros objetos nativos do `Python`, também é possível acessar _\"fatias\"_ (_\"slices\"_) da `Serie`:"
   ]
  },
  {
   "cell_type": "code",
   "execution_count": 15,
   "metadata": {},
   "outputs": [
    {
     "name": "stdout",
     "output_type": "stream",
     "text": [
      "Primeiras duas capitais:\n",
      " Brasil      Brasília\n",
      "Alemanha      Berlim\n",
      "dtype: object\n"
     ]
    }
   ],
   "source": [
    "print(\"Primeiras duas capitais:\\n\", capitais[:2])"
   ]
  },
  {
   "cell_type": "code",
   "execution_count": 16,
   "metadata": {},
   "outputs": [
    {
     "name": "stdout",
     "output_type": "stream",
     "text": [
      "Última capital:\n",
      " Uruguai    Montevidéu\n",
      "dtype: object\n"
     ]
    }
   ],
   "source": [
    "print(\"Última capital:\\n\", capitais[-1:])"
   ]
  },
  {
   "cell_type": "markdown",
   "metadata": {},
   "source": [
    "Note que, quando usamos o _label_ dos índices (`capitais['Alemanha':'Inglaterra']`), os dois ítens foram incluídos na resposta; já quando usamos _slices_ padrões do `Python` (`capitais[:2]`), por exemplo, o comportamento padrão foi observado.\n",
    "\n",
    "A esta altura, você deve estar se perguntando: _E se o índice for numérico?_\n",
    "\n",
    "Bom, a melhor forma de descobrir é testando :)"
   ]
  },
  {
   "cell_type": "code",
   "execution_count": null,
   "metadata": {},
   "outputs": [],
   "source": []
  },
  {
   "cell_type": "code",
   "execution_count": 17,
   "metadata": {},
   "outputs": [],
   "source": [
    "# cria uma Serie com índices definidos de 1 a 5 para facilitar a identificação\n",
    "duvida = pd.Series([100, 200, 300, 400, 500], index=[1, 2, 3, 4, 5])"
   ]
  },
  {
   "cell_type": "code",
   "execution_count": 18,
   "metadata": {},
   "outputs": [
    {
     "name": "stdout",
     "output_type": "stream",
     "text": [
      "1    100\n",
      "2    200\n",
      "3    300\n",
      "4    400\n",
      "5    500\n",
      "dtype: int64\n"
     ]
    }
   ],
   "source": [
    "print(duvida)"
   ]
  },
  {
   "cell_type": "code",
   "execution_count": 19,
   "metadata": {},
   "outputs": [
    {
     "name": "stdout",
     "output_type": "stream",
     "text": [
      "3    300\n",
      "4    400\n",
      "dtype: int64\n"
     ]
    }
   ],
   "source": [
    "# o que será exibido?\n",
    "print(duvida[2:4])"
   ]
  },
  {
   "cell_type": "markdown",
   "metadata": {},
   "source": [
    "<img src=\"series_3.png\" />\n",
    "\n",
    "Como podemos verificar, quando valores inteiros são passados dentro dos colchetes, eles são interpretados como acontece no `Python` padrão, e não como _labels_."
   ]
  },
  {
   "cell_type": "markdown",
   "metadata": {},
   "source": [
    "### DataFrames\n",
    "\n",
    "__DataFrames__ são estruturas definidas pelo `Pandas` para representar matrizes de uma ou mais dimensões:\n",
    "\n",
    "<img src=\"df_2.png\" />\n",
    "\n",
    "Note que, em um `DataFrame`, há um índice, como no caso da `Series`, e também um identificador para cada __colunas__:"
   ]
  },
  {
   "cell_type": "code",
   "execution_count": 20,
   "metadata": {},
   "outputs": [],
   "source": [
    "numeros = pd.DataFrame({ \"Português\": [\"Zero\", \"Um\", \"Dois\", \"Três\", \"Quatro\"],\n",
    "                         \"Inglês\": [\"Zero\", \"One\", \"Two\", \"Three\", \"Four\"],\n",
    "                         \"Alemão\": [\"null\", \"eins\", \"zwei\", \"drei\", \"vier\"]})"
   ]
  },
  {
   "cell_type": "code",
   "execution_count": 21,
   "metadata": {},
   "outputs": [
    {
     "name": "stdout",
     "output_type": "stream",
     "text": [
      "  Português Inglês Alemão\n",
      "0      Zero   Zero   null\n",
      "1        Um    One   eins\n",
      "2      Dois    Two   zwei\n",
      "3      Três  Three   drei\n",
      "4    Quatro   Four   vier\n"
     ]
    }
   ],
   "source": [
    "print(numeros)"
   ]
  },
  {
   "cell_type": "markdown",
   "metadata": {},
   "source": [
    "Ou, como estamos no `Jupyter Notebook`, para ver um `DataFrame` podemos simplesmente:"
   ]
  },
  {
   "cell_type": "code",
   "execution_count": 22,
   "metadata": {},
   "outputs": [
    {
     "data": {
      "text/html": [
       "<div>\n",
       "<style scoped>\n",
       "    .dataframe tbody tr th:only-of-type {\n",
       "        vertical-align: middle;\n",
       "    }\n",
       "\n",
       "    .dataframe tbody tr th {\n",
       "        vertical-align: top;\n",
       "    }\n",
       "\n",
       "    .dataframe thead th {\n",
       "        text-align: right;\n",
       "    }\n",
       "</style>\n",
       "<table border=\"1\" class=\"dataframe\">\n",
       "  <thead>\n",
       "    <tr style=\"text-align: right;\">\n",
       "      <th></th>\n",
       "      <th>Português</th>\n",
       "      <th>Inglês</th>\n",
       "      <th>Alemão</th>\n",
       "    </tr>\n",
       "  </thead>\n",
       "  <tbody>\n",
       "    <tr>\n",
       "      <th>0</th>\n",
       "      <td>Zero</td>\n",
       "      <td>Zero</td>\n",
       "      <td>null</td>\n",
       "    </tr>\n",
       "    <tr>\n",
       "      <th>1</th>\n",
       "      <td>Um</td>\n",
       "      <td>One</td>\n",
       "      <td>eins</td>\n",
       "    </tr>\n",
       "    <tr>\n",
       "      <th>2</th>\n",
       "      <td>Dois</td>\n",
       "      <td>Two</td>\n",
       "      <td>zwei</td>\n",
       "    </tr>\n",
       "    <tr>\n",
       "      <th>3</th>\n",
       "      <td>Três</td>\n",
       "      <td>Three</td>\n",
       "      <td>drei</td>\n",
       "    </tr>\n",
       "    <tr>\n",
       "      <th>4</th>\n",
       "      <td>Quatro</td>\n",
       "      <td>Four</td>\n",
       "      <td>vier</td>\n",
       "    </tr>\n",
       "  </tbody>\n",
       "</table>\n",
       "</div>"
      ],
      "text/plain": [
       "  Português Inglês Alemão\n",
       "0      Zero   Zero   null\n",
       "1        Um    One   eins\n",
       "2      Dois    Two   zwei\n",
       "3      Três  Three   drei\n",
       "4    Quatro   Four   vier"
      ]
     },
     "execution_count": 22,
     "metadata": {},
     "output_type": "execute_result"
    }
   ],
   "source": [
    "numeros"
   ]
  },
  {
   "cell_type": "markdown",
   "metadata": {},
   "source": [
    "### Operações comuns sobre um `DataFrame`\n",
    "\n",
    "`Pandas` só se tornou tão popular porque oferece um número enorme de funções para manipulação dos dados.\n",
    "\n",
    "Veremos a seguir algumas delas, mas há ainda muito mais."
   ]
  },
  {
   "cell_type": "markdown",
   "metadata": {},
   "source": [
    "#### `shape`\n",
    "\n",
    "`.shape` exibe a quantidade de linhas e colunas de um `DataFrame`.\n",
    "\n",
    "Por exemplo, o `DataFrame` que acabamos de definir, `numeros`, tem cinco linhas e três colunas (lembre-se: o índice não é considerado como _\"dado\"_ e, portanto, não é contado!)"
   ]
  },
  {
   "cell_type": "code",
   "execution_count": 23,
   "metadata": {},
   "outputs": [
    {
     "data": {
      "text/plain": [
       "(5, 3)"
      ]
     },
     "execution_count": 23,
     "metadata": {},
     "output_type": "execute_result"
    }
   ],
   "source": [
    "numeros.shape"
   ]
  },
  {
   "cell_type": "markdown",
   "metadata": {},
   "source": [
    "#### `dtypes`\n",
    "\n",
    "`.dtypes` exibe o tipo dos dados de cada coluna de um `DataFrame`. Observe que cada coluna só pode ter um tipo de dados único."
   ]
  },
  {
   "cell_type": "code",
   "execution_count": 24,
   "metadata": {},
   "outputs": [
    {
     "data": {
      "text/plain": [
       "Português    object\n",
       "Inglês       object\n",
       "Alemão       object\n",
       "dtype: object"
      ]
     },
     "execution_count": 24,
     "metadata": {},
     "output_type": "execute_result"
    }
   ],
   "source": [
    "numeros.dtypes"
   ]
  },
  {
   "cell_type": "code",
   "execution_count": 25,
   "metadata": {},
   "outputs": [],
   "source": [
    "# para uso no exemplo\n",
    "from datetime import datetime\n",
    "\n",
    "bagunca = pd.DataFrame({\"texto\": [\"esta\", \"coluna\", \"contém\", \"strings\"],\n",
    "                        \"inteiros\": [1, 2, 3, 4],\n",
    "                        \"decimais\": [1.5, 3.14, -8.28, 1.3e3],\n",
    "                        \"datas\": [ datetime(1910, 9, 1), datetime(2000, 1, 14), datetime(2012, 12, 16), datetime.today()]})"
   ]
  },
  {
   "cell_type": "code",
   "execution_count": 26,
   "metadata": {
    "scrolled": false
   },
   "outputs": [
    {
     "data": {
      "text/html": [
       "<div>\n",
       "<style scoped>\n",
       "    .dataframe tbody tr th:only-of-type {\n",
       "        vertical-align: middle;\n",
       "    }\n",
       "\n",
       "    .dataframe tbody tr th {\n",
       "        vertical-align: top;\n",
       "    }\n",
       "\n",
       "    .dataframe thead th {\n",
       "        text-align: right;\n",
       "    }\n",
       "</style>\n",
       "<table border=\"1\" class=\"dataframe\">\n",
       "  <thead>\n",
       "    <tr style=\"text-align: right;\">\n",
       "      <th></th>\n",
       "      <th>texto</th>\n",
       "      <th>inteiros</th>\n",
       "      <th>decimais</th>\n",
       "      <th>datas</th>\n",
       "    </tr>\n",
       "  </thead>\n",
       "  <tbody>\n",
       "    <tr>\n",
       "      <th>0</th>\n",
       "      <td>esta</td>\n",
       "      <td>1</td>\n",
       "      <td>1.50</td>\n",
       "      <td>1910-09-01 00:00:00.000000</td>\n",
       "    </tr>\n",
       "    <tr>\n",
       "      <th>1</th>\n",
       "      <td>coluna</td>\n",
       "      <td>2</td>\n",
       "      <td>3.14</td>\n",
       "      <td>2000-01-14 00:00:00.000000</td>\n",
       "    </tr>\n",
       "    <tr>\n",
       "      <th>2</th>\n",
       "      <td>contém</td>\n",
       "      <td>3</td>\n",
       "      <td>-8.28</td>\n",
       "      <td>2012-12-16 00:00:00.000000</td>\n",
       "    </tr>\n",
       "    <tr>\n",
       "      <th>3</th>\n",
       "      <td>strings</td>\n",
       "      <td>4</td>\n",
       "      <td>1300.00</td>\n",
       "      <td>2019-04-24 21:56:37.344109</td>\n",
       "    </tr>\n",
       "  </tbody>\n",
       "</table>\n",
       "</div>"
      ],
      "text/plain": [
       "     texto  inteiros  decimais                      datas\n",
       "0     esta         1      1.50 1910-09-01 00:00:00.000000\n",
       "1   coluna         2      3.14 2000-01-14 00:00:00.000000\n",
       "2   contém         3     -8.28 2012-12-16 00:00:00.000000\n",
       "3  strings         4   1300.00 2019-04-24 21:56:37.344109"
      ]
     },
     "execution_count": 26,
     "metadata": {},
     "output_type": "execute_result"
    }
   ],
   "source": [
    "bagunca"
   ]
  },
  {
   "cell_type": "code",
   "execution_count": 27,
   "metadata": {},
   "outputs": [
    {
     "data": {
      "text/plain": [
       "texto               object\n",
       "inteiros             int64\n",
       "decimais           float64\n",
       "datas       datetime64[ns]\n",
       "dtype: object"
      ]
     },
     "execution_count": 27,
     "metadata": {},
     "output_type": "execute_result"
    }
   ],
   "source": [
    "bagunca.dtypes"
   ]
  },
  {
   "cell_type": "markdown",
   "metadata": {},
   "source": [
    "Como cada coluna só pode ter um tipo único de dados, se misturarmos valores de tipos diferentes em uma coluna ela assumirá o tipo `object`:"
   ]
  },
  {
   "cell_type": "code",
   "execution_count": 28,
   "metadata": {},
   "outputs": [],
   "source": [
    "bagunca = pd.DataFrame({\"texto\": [\"esta\", \"coluna\", \"contém\", \"strings\"],\n",
    "                        \"inteiros\": [1, 2, 3, 4],\n",
    "                        \"decimais\": [1.5, 3.14, -8.28, 1.3e3],\n",
    "                        \"datas\": [datetime(1997, 3, 15), \n",
    "                                  datetime(2015, 1, 1), \n",
    "                                  datetime(2019, 4, 23),\n",
    "                                  datetime.today()],\n",
    "                        \"misturado?\": [ 1, \"teste\", 3.48, np.nan]})"
   ]
  },
  {
   "cell_type": "code",
   "execution_count": 29,
   "metadata": {},
   "outputs": [
    {
     "data": {
      "text/html": [
       "<div>\n",
       "<style scoped>\n",
       "    .dataframe tbody tr th:only-of-type {\n",
       "        vertical-align: middle;\n",
       "    }\n",
       "\n",
       "    .dataframe tbody tr th {\n",
       "        vertical-align: top;\n",
       "    }\n",
       "\n",
       "    .dataframe thead th {\n",
       "        text-align: right;\n",
       "    }\n",
       "</style>\n",
       "<table border=\"1\" class=\"dataframe\">\n",
       "  <thead>\n",
       "    <tr style=\"text-align: right;\">\n",
       "      <th></th>\n",
       "      <th>texto</th>\n",
       "      <th>inteiros</th>\n",
       "      <th>decimais</th>\n",
       "      <th>datas</th>\n",
       "      <th>misturado?</th>\n",
       "    </tr>\n",
       "  </thead>\n",
       "  <tbody>\n",
       "    <tr>\n",
       "      <th>0</th>\n",
       "      <td>esta</td>\n",
       "      <td>1</td>\n",
       "      <td>1.50</td>\n",
       "      <td>1997-03-15 00:00:00.000000</td>\n",
       "      <td>1</td>\n",
       "    </tr>\n",
       "    <tr>\n",
       "      <th>1</th>\n",
       "      <td>coluna</td>\n",
       "      <td>2</td>\n",
       "      <td>3.14</td>\n",
       "      <td>2015-01-01 00:00:00.000000</td>\n",
       "      <td>teste</td>\n",
       "    </tr>\n",
       "    <tr>\n",
       "      <th>2</th>\n",
       "      <td>contém</td>\n",
       "      <td>3</td>\n",
       "      <td>-8.28</td>\n",
       "      <td>2019-04-23 00:00:00.000000</td>\n",
       "      <td>3.48</td>\n",
       "    </tr>\n",
       "    <tr>\n",
       "      <th>3</th>\n",
       "      <td>strings</td>\n",
       "      <td>4</td>\n",
       "      <td>1300.00</td>\n",
       "      <td>2019-04-24 21:56:37.373629</td>\n",
       "      <td>NaN</td>\n",
       "    </tr>\n",
       "  </tbody>\n",
       "</table>\n",
       "</div>"
      ],
      "text/plain": [
       "     texto  inteiros  decimais                      datas misturado?\n",
       "0     esta         1      1.50 1997-03-15 00:00:00.000000          1\n",
       "1   coluna         2      3.14 2015-01-01 00:00:00.000000      teste\n",
       "2   contém         3     -8.28 2019-04-23 00:00:00.000000       3.48\n",
       "3  strings         4   1300.00 2019-04-24 21:56:37.373629        NaN"
      ]
     },
     "execution_count": 29,
     "metadata": {},
     "output_type": "execute_result"
    }
   ],
   "source": [
    "bagunca"
   ]
  },
  {
   "cell_type": "code",
   "execution_count": 30,
   "metadata": {},
   "outputs": [
    {
     "data": {
      "text/plain": [
       "texto                 object\n",
       "inteiros               int64\n",
       "decimais             float64\n",
       "datas         datetime64[ns]\n",
       "misturado?            object\n",
       "dtype: object"
      ]
     },
     "execution_count": 30,
     "metadata": {},
     "output_type": "execute_result"
    }
   ],
   "source": [
    "bagunca.dtypes"
   ]
  },
  {
   "cell_type": "markdown",
   "metadata": {},
   "source": [
    "#### `head` e `tail`\n",
    "\n",
    "Os métodos `.head()` e `.tail()` de um `DataFrame` nos permitem inspecionar suas primeiras e últimas linhas, respectivamente:"
   ]
  },
  {
   "cell_type": "code",
   "execution_count": 31,
   "metadata": {},
   "outputs": [],
   "source": [
    "# define a \"semente\" do gerador de números (pseudo-)randômicos; assim, os números serão sempre os mesmos\n",
    "np.random.seed(666)\n",
    "\n",
    "# cria um array numpy de 100 linhas e 5 colunas com inteiros randômicos variando entre 0 e 4999\n",
    "dados = np.random.randint(0, 5000, size=(100, 5))\n",
    "\n",
    "# agora cria um dataframe a partir deste array e nomeia as colunas como \"A\", \"B\", ..., \"E\"\n",
    "grande = pd.DataFrame(dados, columns=list('ABCDE'))"
   ]
  },
  {
   "cell_type": "code",
   "execution_count": 32,
   "metadata": {},
   "outputs": [
    {
     "data": {
      "text/plain": [
       "(100, 5)"
      ]
     },
     "execution_count": 32,
     "metadata": {},
     "output_type": "execute_result"
    }
   ],
   "source": [
    "grande.shape"
   ]
  },
  {
   "cell_type": "code",
   "execution_count": 33,
   "metadata": {},
   "outputs": [
    {
     "data": {
      "text/plain": [
       "A    int64\n",
       "B    int64\n",
       "C    int64\n",
       "D    int64\n",
       "E    int64\n",
       "dtype: object"
      ]
     },
     "execution_count": 33,
     "metadata": {},
     "output_type": "execute_result"
    }
   ],
   "source": [
    "grande.dtypes"
   ]
  },
  {
   "cell_type": "code",
   "execution_count": 34,
   "metadata": {},
   "outputs": [
    {
     "data": {
      "text/html": [
       "<div>\n",
       "<style scoped>\n",
       "    .dataframe tbody tr th:only-of-type {\n",
       "        vertical-align: middle;\n",
       "    }\n",
       "\n",
       "    .dataframe tbody tr th {\n",
       "        vertical-align: top;\n",
       "    }\n",
       "\n",
       "    .dataframe thead th {\n",
       "        text-align: right;\n",
       "    }\n",
       "</style>\n",
       "<table border=\"1\" class=\"dataframe\">\n",
       "  <thead>\n",
       "    <tr style=\"text-align: right;\">\n",
       "      <th></th>\n",
       "      <th>A</th>\n",
       "      <th>B</th>\n",
       "      <th>C</th>\n",
       "      <th>D</th>\n",
       "      <th>E</th>\n",
       "    </tr>\n",
       "  </thead>\n",
       "  <tbody>\n",
       "    <tr>\n",
       "      <th>0</th>\n",
       "      <td>1922</td>\n",
       "      <td>1950</td>\n",
       "      <td>2878</td>\n",
       "      <td>70</td>\n",
       "      <td>1993</td>\n",
       "    </tr>\n",
       "    <tr>\n",
       "      <th>1</th>\n",
       "      <td>2462</td>\n",
       "      <td>1469</td>\n",
       "      <td>1115</td>\n",
       "      <td>222</td>\n",
       "      <td>563</td>\n",
       "    </tr>\n",
       "    <tr>\n",
       "      <th>2</th>\n",
       "      <td>2204</td>\n",
       "      <td>2830</td>\n",
       "      <td>2785</td>\n",
       "      <td>575</td>\n",
       "      <td>2448</td>\n",
       "    </tr>\n",
       "    <tr>\n",
       "      <th>3</th>\n",
       "      <td>3118</td>\n",
       "      <td>4584</td>\n",
       "      <td>807</td>\n",
       "      <td>3141</td>\n",
       "      <td>204</td>\n",
       "    </tr>\n",
       "    <tr>\n",
       "      <th>4</th>\n",
       "      <td>4047</td>\n",
       "      <td>2189</td>\n",
       "      <td>885</td>\n",
       "      <td>2324</td>\n",
       "      <td>1163</td>\n",
       "    </tr>\n",
       "  </tbody>\n",
       "</table>\n",
       "</div>"
      ],
      "text/plain": [
       "      A     B     C     D     E\n",
       "0  1922  1950  2878    70  1993\n",
       "1  2462  1469  1115   222   563\n",
       "2  2204  2830  2785   575  2448\n",
       "3  3118  4584   807  3141   204\n",
       "4  4047  2189   885  2324  1163"
      ]
     },
     "execution_count": 34,
     "metadata": {},
     "output_type": "execute_result"
    }
   ],
   "source": [
    "grande.head()"
   ]
  },
  {
   "cell_type": "code",
   "execution_count": 35,
   "metadata": {},
   "outputs": [
    {
     "data": {
      "text/html": [
       "<div>\n",
       "<style scoped>\n",
       "    .dataframe tbody tr th:only-of-type {\n",
       "        vertical-align: middle;\n",
       "    }\n",
       "\n",
       "    .dataframe tbody tr th {\n",
       "        vertical-align: top;\n",
       "    }\n",
       "\n",
       "    .dataframe thead th {\n",
       "        text-align: right;\n",
       "    }\n",
       "</style>\n",
       "<table border=\"1\" class=\"dataframe\">\n",
       "  <thead>\n",
       "    <tr style=\"text-align: right;\">\n",
       "      <th></th>\n",
       "      <th>A</th>\n",
       "      <th>B</th>\n",
       "      <th>C</th>\n",
       "      <th>D</th>\n",
       "      <th>E</th>\n",
       "    </tr>\n",
       "  </thead>\n",
       "  <tbody>\n",
       "    <tr>\n",
       "      <th>95</th>\n",
       "      <td>2748</td>\n",
       "      <td>1053</td>\n",
       "      <td>2920</td>\n",
       "      <td>3451</td>\n",
       "      <td>1525</td>\n",
       "    </tr>\n",
       "    <tr>\n",
       "      <th>96</th>\n",
       "      <td>852</td>\n",
       "      <td>95</td>\n",
       "      <td>167</td>\n",
       "      <td>1215</td>\n",
       "      <td>4551</td>\n",
       "    </tr>\n",
       "    <tr>\n",
       "      <th>97</th>\n",
       "      <td>2701</td>\n",
       "      <td>1737</td>\n",
       "      <td>4942</td>\n",
       "      <td>3828</td>\n",
       "      <td>877</td>\n",
       "    </tr>\n",
       "    <tr>\n",
       "      <th>98</th>\n",
       "      <td>4696</td>\n",
       "      <td>1776</td>\n",
       "      <td>4246</td>\n",
       "      <td>4392</td>\n",
       "      <td>2835</td>\n",
       "    </tr>\n",
       "    <tr>\n",
       "      <th>99</th>\n",
       "      <td>4</td>\n",
       "      <td>362</td>\n",
       "      <td>880</td>\n",
       "      <td>932</td>\n",
       "      <td>3458</td>\n",
       "    </tr>\n",
       "  </tbody>\n",
       "</table>\n",
       "</div>"
      ],
      "text/plain": [
       "       A     B     C     D     E\n",
       "95  2748  1053  2920  3451  1525\n",
       "96   852    95   167  1215  4551\n",
       "97  2701  1737  4942  3828   877\n",
       "98  4696  1776  4246  4392  2835\n",
       "99     4   362   880   932  3458"
      ]
     },
     "execution_count": 35,
     "metadata": {},
     "output_type": "execute_result"
    }
   ],
   "source": [
    "grande.tail()"
   ]
  },
  {
   "cell_type": "markdown",
   "metadata": {},
   "source": [
    "Também é possível definir qual o número de linhas desejadas:"
   ]
  },
  {
   "cell_type": "code",
   "execution_count": 36,
   "metadata": {},
   "outputs": [
    {
     "data": {
      "text/html": [
       "<div>\n",
       "<style scoped>\n",
       "    .dataframe tbody tr th:only-of-type {\n",
       "        vertical-align: middle;\n",
       "    }\n",
       "\n",
       "    .dataframe tbody tr th {\n",
       "        vertical-align: top;\n",
       "    }\n",
       "\n",
       "    .dataframe thead th {\n",
       "        text-align: right;\n",
       "    }\n",
       "</style>\n",
       "<table border=\"1\" class=\"dataframe\">\n",
       "  <thead>\n",
       "    <tr style=\"text-align: right;\">\n",
       "      <th></th>\n",
       "      <th>A</th>\n",
       "      <th>B</th>\n",
       "      <th>C</th>\n",
       "      <th>D</th>\n",
       "      <th>E</th>\n",
       "    </tr>\n",
       "  </thead>\n",
       "  <tbody>\n",
       "    <tr>\n",
       "      <th>0</th>\n",
       "      <td>1922</td>\n",
       "      <td>1950</td>\n",
       "      <td>2878</td>\n",
       "      <td>70</td>\n",
       "      <td>1993</td>\n",
       "    </tr>\n",
       "    <tr>\n",
       "      <th>1</th>\n",
       "      <td>2462</td>\n",
       "      <td>1469</td>\n",
       "      <td>1115</td>\n",
       "      <td>222</td>\n",
       "      <td>563</td>\n",
       "    </tr>\n",
       "    <tr>\n",
       "      <th>2</th>\n",
       "      <td>2204</td>\n",
       "      <td>2830</td>\n",
       "      <td>2785</td>\n",
       "      <td>575</td>\n",
       "      <td>2448</td>\n",
       "    </tr>\n",
       "  </tbody>\n",
       "</table>\n",
       "</div>"
      ],
      "text/plain": [
       "      A     B     C    D     E\n",
       "0  1922  1950  2878   70  1993\n",
       "1  2462  1469  1115  222   563\n",
       "2  2204  2830  2785  575  2448"
      ]
     },
     "execution_count": 36,
     "metadata": {},
     "output_type": "execute_result"
    }
   ],
   "source": [
    "grande.head(3)"
   ]
  },
  {
   "cell_type": "code",
   "execution_count": 37,
   "metadata": {},
   "outputs": [
    {
     "data": {
      "text/html": [
       "<div>\n",
       "<style scoped>\n",
       "    .dataframe tbody tr th:only-of-type {\n",
       "        vertical-align: middle;\n",
       "    }\n",
       "\n",
       "    .dataframe tbody tr th {\n",
       "        vertical-align: top;\n",
       "    }\n",
       "\n",
       "    .dataframe thead th {\n",
       "        text-align: right;\n",
       "    }\n",
       "</style>\n",
       "<table border=\"1\" class=\"dataframe\">\n",
       "  <thead>\n",
       "    <tr style=\"text-align: right;\">\n",
       "      <th></th>\n",
       "      <th>A</th>\n",
       "      <th>B</th>\n",
       "      <th>C</th>\n",
       "      <th>D</th>\n",
       "      <th>E</th>\n",
       "    </tr>\n",
       "  </thead>\n",
       "  <tbody>\n",
       "    <tr>\n",
       "      <th>92</th>\n",
       "      <td>4165</td>\n",
       "      <td>2509</td>\n",
       "      <td>3912</td>\n",
       "      <td>4053</td>\n",
       "      <td>3000</td>\n",
       "    </tr>\n",
       "    <tr>\n",
       "      <th>93</th>\n",
       "      <td>3859</td>\n",
       "      <td>3945</td>\n",
       "      <td>1217</td>\n",
       "      <td>1309</td>\n",
       "      <td>1435</td>\n",
       "    </tr>\n",
       "    <tr>\n",
       "      <th>94</th>\n",
       "      <td>3015</td>\n",
       "      <td>2563</td>\n",
       "      <td>2614</td>\n",
       "      <td>2047</td>\n",
       "      <td>2881</td>\n",
       "    </tr>\n",
       "    <tr>\n",
       "      <th>95</th>\n",
       "      <td>2748</td>\n",
       "      <td>1053</td>\n",
       "      <td>2920</td>\n",
       "      <td>3451</td>\n",
       "      <td>1525</td>\n",
       "    </tr>\n",
       "    <tr>\n",
       "      <th>96</th>\n",
       "      <td>852</td>\n",
       "      <td>95</td>\n",
       "      <td>167</td>\n",
       "      <td>1215</td>\n",
       "      <td>4551</td>\n",
       "    </tr>\n",
       "    <tr>\n",
       "      <th>97</th>\n",
       "      <td>2701</td>\n",
       "      <td>1737</td>\n",
       "      <td>4942</td>\n",
       "      <td>3828</td>\n",
       "      <td>877</td>\n",
       "    </tr>\n",
       "    <tr>\n",
       "      <th>98</th>\n",
       "      <td>4696</td>\n",
       "      <td>1776</td>\n",
       "      <td>4246</td>\n",
       "      <td>4392</td>\n",
       "      <td>2835</td>\n",
       "    </tr>\n",
       "    <tr>\n",
       "      <th>99</th>\n",
       "      <td>4</td>\n",
       "      <td>362</td>\n",
       "      <td>880</td>\n",
       "      <td>932</td>\n",
       "      <td>3458</td>\n",
       "    </tr>\n",
       "  </tbody>\n",
       "</table>\n",
       "</div>"
      ],
      "text/plain": [
       "       A     B     C     D     E\n",
       "92  4165  2509  3912  4053  3000\n",
       "93  3859  3945  1217  1309  1435\n",
       "94  3015  2563  2614  2047  2881\n",
       "95  2748  1053  2920  3451  1525\n",
       "96   852    95   167  1215  4551\n",
       "97  2701  1737  4942  3828   877\n",
       "98  4696  1776  4246  4392  2835\n",
       "99     4   362   880   932  3458"
      ]
     },
     "execution_count": 37,
     "metadata": {},
     "output_type": "execute_result"
    }
   ],
   "source": [
    "grande.tail(8)"
   ]
  },
  {
   "cell_type": "markdown",
   "metadata": {},
   "source": [
    "#### `sample`\n",
    "\n",
    "`sample` retorna uma amostra dos dados do `DataFrame` com o tamanho desejado:"
   ]
  },
  {
   "cell_type": "code",
   "execution_count": 38,
   "metadata": {},
   "outputs": [
    {
     "data": {
      "text/html": [
       "<div>\n",
       "<style scoped>\n",
       "    .dataframe tbody tr th:only-of-type {\n",
       "        vertical-align: middle;\n",
       "    }\n",
       "\n",
       "    .dataframe tbody tr th {\n",
       "        vertical-align: top;\n",
       "    }\n",
       "\n",
       "    .dataframe thead th {\n",
       "        text-align: right;\n",
       "    }\n",
       "</style>\n",
       "<table border=\"1\" class=\"dataframe\">\n",
       "  <thead>\n",
       "    <tr style=\"text-align: right;\">\n",
       "      <th></th>\n",
       "      <th>A</th>\n",
       "      <th>B</th>\n",
       "      <th>C</th>\n",
       "      <th>D</th>\n",
       "      <th>E</th>\n",
       "    </tr>\n",
       "  </thead>\n",
       "  <tbody>\n",
       "    <tr>\n",
       "      <th>16</th>\n",
       "      <td>1834</td>\n",
       "      <td>3361</td>\n",
       "      <td>4391</td>\n",
       "      <td>3621</td>\n",
       "      <td>3922</td>\n",
       "    </tr>\n",
       "    <tr>\n",
       "      <th>91</th>\n",
       "      <td>2493</td>\n",
       "      <td>4026</td>\n",
       "      <td>25</td>\n",
       "      <td>1072</td>\n",
       "      <td>1246</td>\n",
       "    </tr>\n",
       "    <tr>\n",
       "      <th>11</th>\n",
       "      <td>2667</td>\n",
       "      <td>1991</td>\n",
       "      <td>1407</td>\n",
       "      <td>1748</td>\n",
       "      <td>1683</td>\n",
       "    </tr>\n",
       "    <tr>\n",
       "      <th>58</th>\n",
       "      <td>764</td>\n",
       "      <td>2094</td>\n",
       "      <td>391</td>\n",
       "      <td>2420</td>\n",
       "      <td>3806</td>\n",
       "    </tr>\n",
       "    <tr>\n",
       "      <th>1</th>\n",
       "      <td>2462</td>\n",
       "      <td>1469</td>\n",
       "      <td>1115</td>\n",
       "      <td>222</td>\n",
       "      <td>563</td>\n",
       "    </tr>\n",
       "  </tbody>\n",
       "</table>\n",
       "</div>"
      ],
      "text/plain": [
       "       A     B     C     D     E\n",
       "16  1834  3361  4391  3621  3922\n",
       "91  2493  4026    25  1072  1246\n",
       "11  2667  1991  1407  1748  1683\n",
       "58   764  2094   391  2420  3806\n",
       "1   2462  1469  1115   222   563"
      ]
     },
     "execution_count": 38,
     "metadata": {},
     "output_type": "execute_result"
    }
   ],
   "source": [
    "grande.sample(5)"
   ]
  },
  {
   "cell_type": "markdown",
   "metadata": {},
   "source": [
    "Também é possível informar o porcentual desejado de linhas do `DataFrame` original:"
   ]
  },
  {
   "cell_type": "code",
   "execution_count": 39,
   "metadata": {},
   "outputs": [
    {
     "data": {
      "text/html": [
       "<div>\n",
       "<style scoped>\n",
       "    .dataframe tbody tr th:only-of-type {\n",
       "        vertical-align: middle;\n",
       "    }\n",
       "\n",
       "    .dataframe tbody tr th {\n",
       "        vertical-align: top;\n",
       "    }\n",
       "\n",
       "    .dataframe thead th {\n",
       "        text-align: right;\n",
       "    }\n",
       "</style>\n",
       "<table border=\"1\" class=\"dataframe\">\n",
       "  <thead>\n",
       "    <tr style=\"text-align: right;\">\n",
       "      <th></th>\n",
       "      <th>A</th>\n",
       "      <th>B</th>\n",
       "      <th>C</th>\n",
       "      <th>D</th>\n",
       "      <th>E</th>\n",
       "    </tr>\n",
       "  </thead>\n",
       "  <tbody>\n",
       "    <tr>\n",
       "      <th>74</th>\n",
       "      <td>239</td>\n",
       "      <td>4199</td>\n",
       "      <td>4789</td>\n",
       "      <td>524</td>\n",
       "      <td>951</td>\n",
       "    </tr>\n",
       "    <tr>\n",
       "      <th>38</th>\n",
       "      <td>1607</td>\n",
       "      <td>1916</td>\n",
       "      <td>1033</td>\n",
       "      <td>1845</td>\n",
       "      <td>3212</td>\n",
       "    </tr>\n",
       "    <tr>\n",
       "      <th>39</th>\n",
       "      <td>2405</td>\n",
       "      <td>1921</td>\n",
       "      <td>2237</td>\n",
       "      <td>2028</td>\n",
       "      <td>148</td>\n",
       "    </tr>\n",
       "    <tr>\n",
       "      <th>43</th>\n",
       "      <td>1974</td>\n",
       "      <td>1102</td>\n",
       "      <td>4606</td>\n",
       "      <td>3056</td>\n",
       "      <td>3420</td>\n",
       "    </tr>\n",
       "    <tr>\n",
       "      <th>36</th>\n",
       "      <td>643</td>\n",
       "      <td>1391</td>\n",
       "      <td>2111</td>\n",
       "      <td>570</td>\n",
       "      <td>1974</td>\n",
       "    </tr>\n",
       "    <tr>\n",
       "      <th>72</th>\n",
       "      <td>3124</td>\n",
       "      <td>1406</td>\n",
       "      <td>2772</td>\n",
       "      <td>1007</td>\n",
       "      <td>779</td>\n",
       "    </tr>\n",
       "    <tr>\n",
       "      <th>70</th>\n",
       "      <td>2578</td>\n",
       "      <td>1043</td>\n",
       "      <td>3857</td>\n",
       "      <td>541</td>\n",
       "      <td>1154</td>\n",
       "    </tr>\n",
       "    <tr>\n",
       "      <th>59</th>\n",
       "      <td>4946</td>\n",
       "      <td>4430</td>\n",
       "      <td>4716</td>\n",
       "      <td>3393</td>\n",
       "      <td>3303</td>\n",
       "    </tr>\n",
       "    <tr>\n",
       "      <th>90</th>\n",
       "      <td>2003</td>\n",
       "      <td>3384</td>\n",
       "      <td>674</td>\n",
       "      <td>2708</td>\n",
       "      <td>1193</td>\n",
       "    </tr>\n",
       "    <tr>\n",
       "      <th>6</th>\n",
       "      <td>687</td>\n",
       "      <td>1956</td>\n",
       "      <td>4357</td>\n",
       "      <td>554</td>\n",
       "      <td>4769</td>\n",
       "    </tr>\n",
       "  </tbody>\n",
       "</table>\n",
       "</div>"
      ],
      "text/plain": [
       "       A     B     C     D     E\n",
       "74   239  4199  4789   524   951\n",
       "38  1607  1916  1033  1845  3212\n",
       "39  2405  1921  2237  2028   148\n",
       "43  1974  1102  4606  3056  3420\n",
       "36   643  1391  2111   570  1974\n",
       "72  3124  1406  2772  1007   779\n",
       "70  2578  1043  3857   541  1154\n",
       "59  4946  4430  4716  3393  3303\n",
       "90  2003  3384   674  2708  1193\n",
       "6    687  1956  4357   554  4769"
      ]
     },
     "execution_count": 39,
     "metadata": {},
     "output_type": "execute_result"
    }
   ],
   "source": [
    "grande.sample(frac=0.1)"
   ]
  },
  {
   "cell_type": "markdown",
   "metadata": {},
   "source": [
    "E, caso se deseje que o `sample` retorne sempre o mesmo sub-conjunto, pode-se usar o parâmetro `random_state` (de forma similar a `np.random.seed` já utilizado anteriormente):"
   ]
  },
  {
   "cell_type": "code",
   "execution_count": 40,
   "metadata": {},
   "outputs": [
    {
     "data": {
      "text/html": [
       "<div>\n",
       "<style scoped>\n",
       "    .dataframe tbody tr th:only-of-type {\n",
       "        vertical-align: middle;\n",
       "    }\n",
       "\n",
       "    .dataframe tbody tr th {\n",
       "        vertical-align: top;\n",
       "    }\n",
       "\n",
       "    .dataframe thead th {\n",
       "        text-align: right;\n",
       "    }\n",
       "</style>\n",
       "<table border=\"1\" class=\"dataframe\">\n",
       "  <thead>\n",
       "    <tr style=\"text-align: right;\">\n",
       "      <th></th>\n",
       "      <th>A</th>\n",
       "      <th>B</th>\n",
       "      <th>C</th>\n",
       "      <th>D</th>\n",
       "      <th>E</th>\n",
       "    </tr>\n",
       "  </thead>\n",
       "  <tbody>\n",
       "    <tr>\n",
       "      <th>56</th>\n",
       "      <td>4639</td>\n",
       "      <td>2314</td>\n",
       "      <td>3140</td>\n",
       "      <td>329</td>\n",
       "      <td>2976</td>\n",
       "    </tr>\n",
       "    <tr>\n",
       "      <th>90</th>\n",
       "      <td>2003</td>\n",
       "      <td>3384</td>\n",
       "      <td>674</td>\n",
       "      <td>2708</td>\n",
       "      <td>1193</td>\n",
       "    </tr>\n",
       "    <tr>\n",
       "      <th>95</th>\n",
       "      <td>2748</td>\n",
       "      <td>1053</td>\n",
       "      <td>2920</td>\n",
       "      <td>3451</td>\n",
       "      <td>1525</td>\n",
       "    </tr>\n",
       "    <tr>\n",
       "      <th>82</th>\n",
       "      <td>4968</td>\n",
       "      <td>4130</td>\n",
       "      <td>3207</td>\n",
       "      <td>322</td>\n",
       "      <td>2495</td>\n",
       "    </tr>\n",
       "    <tr>\n",
       "      <th>60</th>\n",
       "      <td>1428</td>\n",
       "      <td>1859</td>\n",
       "      <td>3113</td>\n",
       "      <td>1576</td>\n",
       "      <td>3531</td>\n",
       "    </tr>\n",
       "  </tbody>\n",
       "</table>\n",
       "</div>"
      ],
      "text/plain": [
       "       A     B     C     D     E\n",
       "56  4639  2314  3140   329  2976\n",
       "90  2003  3384   674  2708  1193\n",
       "95  2748  1053  2920  3451  1525\n",
       "82  4968  4130  3207   322  2495\n",
       "60  1428  1859  3113  1576  3531"
      ]
     },
     "execution_count": 40,
     "metadata": {},
     "output_type": "execute_result"
    }
   ],
   "source": [
    "grande.sample(frac=0.05, random_state=33)"
   ]
  },
  {
   "cell_type": "markdown",
   "metadata": {},
   "source": [
    "Também é possível obter um sub-conjunto (pseudo-)aleatório de colunas:"
   ]
  },
  {
   "cell_type": "code",
   "execution_count": 41,
   "metadata": {},
   "outputs": [
    {
     "data": {
      "text/html": [
       "<div>\n",
       "<style scoped>\n",
       "    .dataframe tbody tr th:only-of-type {\n",
       "        vertical-align: middle;\n",
       "    }\n",
       "\n",
       "    .dataframe tbody tr th {\n",
       "        vertical-align: top;\n",
       "    }\n",
       "\n",
       "    .dataframe thead th {\n",
       "        text-align: right;\n",
       "    }\n",
       "</style>\n",
       "<table border=\"1\" class=\"dataframe\">\n",
       "  <thead>\n",
       "    <tr style=\"text-align: right;\">\n",
       "      <th></th>\n",
       "      <th>B</th>\n",
       "      <th>C</th>\n",
       "    </tr>\n",
       "  </thead>\n",
       "  <tbody>\n",
       "    <tr>\n",
       "      <th>0</th>\n",
       "      <td>1950</td>\n",
       "      <td>2878</td>\n",
       "    </tr>\n",
       "    <tr>\n",
       "      <th>1</th>\n",
       "      <td>1469</td>\n",
       "      <td>1115</td>\n",
       "    </tr>\n",
       "    <tr>\n",
       "      <th>2</th>\n",
       "      <td>2830</td>\n",
       "      <td>2785</td>\n",
       "    </tr>\n",
       "    <tr>\n",
       "      <th>3</th>\n",
       "      <td>4584</td>\n",
       "      <td>807</td>\n",
       "    </tr>\n",
       "    <tr>\n",
       "      <th>4</th>\n",
       "      <td>2189</td>\n",
       "      <td>885</td>\n",
       "    </tr>\n",
       "  </tbody>\n",
       "</table>\n",
       "</div>"
      ],
      "text/plain": [
       "      B     C\n",
       "0  1950  2878\n",
       "1  1469  1115\n",
       "2  2830  2785\n",
       "3  4584   807\n",
       "4  2189   885"
      ]
     },
     "execution_count": 41,
     "metadata": {},
     "output_type": "execute_result"
    }
   ],
   "source": [
    "grande.sample(2, axis=\"columns\", random_state=33).head()"
   ]
  },
  {
   "cell_type": "markdown",
   "metadata": {},
   "source": [
    "#### Indexing\n",
    "\n",
    "_Indexing_ é o termo utilizado quando nos referimos à seleção de sub-conjuntos de um `DataFrame`. O `Pandas` é muito flexível neste aspecto, disponibilizando várias formas de acesso.\n",
    "\n",
    "Para entender melhor como isso funciona, vamos criar um novo `DataFrame`:"
   ]
  },
  {
   "cell_type": "code",
   "execution_count": 42,
   "metadata": {},
   "outputs": [],
   "source": [
    "cervejas = pd.DataFrame([[\"Vedett\", \"IPA\", \"Bélgica\", 0.33, 5.5],\n",
    "                         [\"Eisenbahn\", \"Strong Golden Ale\", \"Brasil\", 0.355, 8.0],\n",
    "                         [\"Belhaven\", \"Rich Scottish Ale\", \"Escócia\", 0.33, 7.4],\n",
    "                         [\"Robinsons\", \"Premium Britisch Beer\", \"Inglaterra\", 0.5, 4.7],\n",
    "                         [\"Brewdog\", \"IPA\", \"Escócia\", 0.33, 5.6],\n",
    "                         [\"Fuller's\", \"Superior Strong Ale\", \"Inglaterra\", 0.5, 8.5],\n",
    "                         [\"Goose\", \"Session IPA\", \"Brasil\", 0.355, 4.1]],\n",
    "                        index=[\"Vedett IPA\", \"Eisenbahn\", \"90 Wee Heavy\", \"Trooper\", \"Punk IPA\", \"Golden Pride\", \"Midway\"],\n",
    "                        columns=[\"Fabricante\", \"Tipo\", \"País\", \"Volume\", \"Graduação Alcoólica\"])"
   ]
  },
  {
   "cell_type": "code",
   "execution_count": 43,
   "metadata": {},
   "outputs": [
    {
     "data": {
      "text/html": [
       "<div>\n",
       "<style scoped>\n",
       "    .dataframe tbody tr th:only-of-type {\n",
       "        vertical-align: middle;\n",
       "    }\n",
       "\n",
       "    .dataframe tbody tr th {\n",
       "        vertical-align: top;\n",
       "    }\n",
       "\n",
       "    .dataframe thead th {\n",
       "        text-align: right;\n",
       "    }\n",
       "</style>\n",
       "<table border=\"1\" class=\"dataframe\">\n",
       "  <thead>\n",
       "    <tr style=\"text-align: right;\">\n",
       "      <th></th>\n",
       "      <th>Fabricante</th>\n",
       "      <th>Tipo</th>\n",
       "      <th>País</th>\n",
       "      <th>Volume</th>\n",
       "      <th>Graduação Alcoólica</th>\n",
       "    </tr>\n",
       "  </thead>\n",
       "  <tbody>\n",
       "    <tr>\n",
       "      <th>Vedett IPA</th>\n",
       "      <td>Vedett</td>\n",
       "      <td>IPA</td>\n",
       "      <td>Bélgica</td>\n",
       "      <td>0.330</td>\n",
       "      <td>5.5</td>\n",
       "    </tr>\n",
       "    <tr>\n",
       "      <th>Eisenbahn</th>\n",
       "      <td>Eisenbahn</td>\n",
       "      <td>Strong Golden Ale</td>\n",
       "      <td>Brasil</td>\n",
       "      <td>0.355</td>\n",
       "      <td>8.0</td>\n",
       "    </tr>\n",
       "    <tr>\n",
       "      <th>90 Wee Heavy</th>\n",
       "      <td>Belhaven</td>\n",
       "      <td>Rich Scottish Ale</td>\n",
       "      <td>Escócia</td>\n",
       "      <td>0.330</td>\n",
       "      <td>7.4</td>\n",
       "    </tr>\n",
       "    <tr>\n",
       "      <th>Trooper</th>\n",
       "      <td>Robinsons</td>\n",
       "      <td>Premium Britisch Beer</td>\n",
       "      <td>Inglaterra</td>\n",
       "      <td>0.500</td>\n",
       "      <td>4.7</td>\n",
       "    </tr>\n",
       "    <tr>\n",
       "      <th>Punk IPA</th>\n",
       "      <td>Brewdog</td>\n",
       "      <td>IPA</td>\n",
       "      <td>Escócia</td>\n",
       "      <td>0.330</td>\n",
       "      <td>5.6</td>\n",
       "    </tr>\n",
       "    <tr>\n",
       "      <th>Golden Pride</th>\n",
       "      <td>Fuller's</td>\n",
       "      <td>Superior Strong Ale</td>\n",
       "      <td>Inglaterra</td>\n",
       "      <td>0.500</td>\n",
       "      <td>8.5</td>\n",
       "    </tr>\n",
       "    <tr>\n",
       "      <th>Midway</th>\n",
       "      <td>Goose</td>\n",
       "      <td>Session IPA</td>\n",
       "      <td>Brasil</td>\n",
       "      <td>0.355</td>\n",
       "      <td>4.1</td>\n",
       "    </tr>\n",
       "  </tbody>\n",
       "</table>\n",
       "</div>"
      ],
      "text/plain": [
       "             Fabricante                   Tipo        País  Volume  \\\n",
       "Vedett IPA       Vedett                    IPA     Bélgica   0.330   \n",
       "Eisenbahn     Eisenbahn      Strong Golden Ale      Brasil   0.355   \n",
       "90 Wee Heavy   Belhaven      Rich Scottish Ale     Escócia   0.330   \n",
       "Trooper       Robinsons  Premium Britisch Beer  Inglaterra   0.500   \n",
       "Punk IPA        Brewdog                    IPA     Escócia   0.330   \n",
       "Golden Pride   Fuller's    Superior Strong Ale  Inglaterra   0.500   \n",
       "Midway            Goose            Session IPA      Brasil   0.355   \n",
       "\n",
       "              Graduação Alcoólica  \n",
       "Vedett IPA                    5.5  \n",
       "Eisenbahn                     8.0  \n",
       "90 Wee Heavy                  7.4  \n",
       "Trooper                       4.7  \n",
       "Punk IPA                      5.6  \n",
       "Golden Pride                  8.5  \n",
       "Midway                        4.1  "
      ]
     },
     "execution_count": 43,
     "metadata": {},
     "output_type": "execute_result"
    }
   ],
   "source": [
    "cervejas"
   ]
  },
  {
   "cell_type": "markdown",
   "metadata": {},
   "source": [
    "Por exemplo, para se obter o valor da célula correspondente à quarta linha na coluna __'Fabricante'__:"
   ]
  },
  {
   "cell_type": "code",
   "execution_count": 44,
   "metadata": {},
   "outputs": [
    {
     "data": {
      "text/plain": [
       "'Robinsons'"
      ]
     },
     "execution_count": 44,
     "metadata": {},
     "output_type": "execute_result"
    }
   ],
   "source": [
    "linha = 3              # lembre-se: a primeira linha é a ZERO!\n",
    "coluna = 'Fabricante'\n",
    "cervejas[coluna][linha]"
   ]
  },
  {
   "cell_type": "markdown",
   "metadata": {},
   "source": [
    "Para obter uma coluna inteira:"
   ]
  },
  {
   "cell_type": "code",
   "execution_count": 45,
   "metadata": {},
   "outputs": [
    {
     "data": {
      "text/plain": [
       "Vedett IPA         Bélgica\n",
       "Eisenbahn           Brasil\n",
       "90 Wee Heavy       Escócia\n",
       "Trooper         Inglaterra\n",
       "Punk IPA           Escócia\n",
       "Name: País, dtype: object"
      ]
     },
     "execution_count": 45,
     "metadata": {},
     "output_type": "execute_result"
    }
   ],
   "source": [
    "cervejas[\"País\"].head()"
   ]
  },
  {
   "cell_type": "markdown",
   "metadata": {},
   "source": [
    "Já para obter uma linha completa, é necessário usar os métodos `.iloc` (para obter a linha a partir de seu número) ou `.loc` (para obter a linha a partir do _label_ de seu índice)."
   ]
  },
  {
   "cell_type": "code",
   "execution_count": 46,
   "metadata": {},
   "outputs": [
    {
     "data": {
      "text/plain": [
       "Fabricante                      Belhaven\n",
       "Tipo                   Rich Scottish Ale\n",
       "País                             Escócia\n",
       "Volume                              0.33\n",
       "Graduação Alcoólica                  7.4\n",
       "Name: 90 Wee Heavy, dtype: object"
      ]
     },
     "execution_count": 46,
     "metadata": {},
     "output_type": "execute_result"
    }
   ],
   "source": [
    "cervejas.iloc[2]"
   ]
  },
  {
   "cell_type": "code",
   "execution_count": 47,
   "metadata": {},
   "outputs": [
    {
     "data": {
      "text/plain": [
       "Fabricante             Brewdog\n",
       "Tipo                       IPA\n",
       "País                   Escócia\n",
       "Volume                    0.33\n",
       "Graduação Alcoólica        5.6\n",
       "Name: Punk IPA, dtype: object"
      ]
     },
     "execution_count": 47,
     "metadata": {},
     "output_type": "execute_result"
    }
   ],
   "source": [
    "cervejas.loc['Punk IPA']"
   ]
  },
  {
   "cell_type": "markdown",
   "metadata": {},
   "source": [
    "Observem que o índice não faz parte do retorno!"
   ]
  },
  {
   "cell_type": "markdown",
   "metadata": {},
   "source": [
    "`.loc` também permite selecionar um conjunto de linhas consecutivas, sempre indicando os _labels_ do índice:"
   ]
  },
  {
   "cell_type": "code",
   "execution_count": 48,
   "metadata": {},
   "outputs": [
    {
     "data": {
      "text/html": [
       "<div>\n",
       "<style scoped>\n",
       "    .dataframe tbody tr th:only-of-type {\n",
       "        vertical-align: middle;\n",
       "    }\n",
       "\n",
       "    .dataframe tbody tr th {\n",
       "        vertical-align: top;\n",
       "    }\n",
       "\n",
       "    .dataframe thead th {\n",
       "        text-align: right;\n",
       "    }\n",
       "</style>\n",
       "<table border=\"1\" class=\"dataframe\">\n",
       "  <thead>\n",
       "    <tr style=\"text-align: right;\">\n",
       "      <th></th>\n",
       "      <th>Fabricante</th>\n",
       "      <th>Tipo</th>\n",
       "      <th>País</th>\n",
       "      <th>Volume</th>\n",
       "      <th>Graduação Alcoólica</th>\n",
       "    </tr>\n",
       "  </thead>\n",
       "  <tbody>\n",
       "    <tr>\n",
       "      <th>Trooper</th>\n",
       "      <td>Robinsons</td>\n",
       "      <td>Premium Britisch Beer</td>\n",
       "      <td>Inglaterra</td>\n",
       "      <td>0.50</td>\n",
       "      <td>4.7</td>\n",
       "    </tr>\n",
       "    <tr>\n",
       "      <th>Punk IPA</th>\n",
       "      <td>Brewdog</td>\n",
       "      <td>IPA</td>\n",
       "      <td>Escócia</td>\n",
       "      <td>0.33</td>\n",
       "      <td>5.6</td>\n",
       "    </tr>\n",
       "    <tr>\n",
       "      <th>Golden Pride</th>\n",
       "      <td>Fuller's</td>\n",
       "      <td>Superior Strong Ale</td>\n",
       "      <td>Inglaterra</td>\n",
       "      <td>0.50</td>\n",
       "      <td>8.5</td>\n",
       "    </tr>\n",
       "  </tbody>\n",
       "</table>\n",
       "</div>"
      ],
      "text/plain": [
       "             Fabricante                   Tipo        País  Volume  \\\n",
       "Trooper       Robinsons  Premium Britisch Beer  Inglaterra    0.50   \n",
       "Punk IPA        Brewdog                    IPA     Escócia    0.33   \n",
       "Golden Pride   Fuller's    Superior Strong Ale  Inglaterra    0.50   \n",
       "\n",
       "              Graduação Alcoólica  \n",
       "Trooper                       4.7  \n",
       "Punk IPA                      5.6  \n",
       "Golden Pride                  8.5  "
      ]
     },
     "execution_count": 48,
     "metadata": {},
     "output_type": "execute_result"
    }
   ],
   "source": [
    "cervejas.loc['Trooper':'Golden Pride']"
   ]
  },
  {
   "cell_type": "markdown",
   "metadata": {},
   "source": [
    "E também colunas:"
   ]
  },
  {
   "cell_type": "code",
   "execution_count": 49,
   "metadata": {},
   "outputs": [
    {
     "data": {
      "text/html": [
       "<div>\n",
       "<style scoped>\n",
       "    .dataframe tbody tr th:only-of-type {\n",
       "        vertical-align: middle;\n",
       "    }\n",
       "\n",
       "    .dataframe tbody tr th {\n",
       "        vertical-align: top;\n",
       "    }\n",
       "\n",
       "    .dataframe thead th {\n",
       "        text-align: right;\n",
       "    }\n",
       "</style>\n",
       "<table border=\"1\" class=\"dataframe\">\n",
       "  <thead>\n",
       "    <tr style=\"text-align: right;\">\n",
       "      <th></th>\n",
       "      <th>Fabricante</th>\n",
       "      <th>Tipo</th>\n",
       "      <th>País</th>\n",
       "    </tr>\n",
       "  </thead>\n",
       "  <tbody>\n",
       "    <tr>\n",
       "      <th>Trooper</th>\n",
       "      <td>Robinsons</td>\n",
       "      <td>Premium Britisch Beer</td>\n",
       "      <td>Inglaterra</td>\n",
       "    </tr>\n",
       "    <tr>\n",
       "      <th>Punk IPA</th>\n",
       "      <td>Brewdog</td>\n",
       "      <td>IPA</td>\n",
       "      <td>Escócia</td>\n",
       "    </tr>\n",
       "    <tr>\n",
       "      <th>Golden Pride</th>\n",
       "      <td>Fuller's</td>\n",
       "      <td>Superior Strong Ale</td>\n",
       "      <td>Inglaterra</td>\n",
       "    </tr>\n",
       "  </tbody>\n",
       "</table>\n",
       "</div>"
      ],
      "text/plain": [
       "             Fabricante                   Tipo        País\n",
       "Trooper       Robinsons  Premium Britisch Beer  Inglaterra\n",
       "Punk IPA        Brewdog                    IPA     Escócia\n",
       "Golden Pride   Fuller's    Superior Strong Ale  Inglaterra"
      ]
     },
     "execution_count": 49,
     "metadata": {},
     "output_type": "execute_result"
    }
   ],
   "source": [
    "cervejas.loc['Trooper':'Golden Pride', 'Fabricante':'País']"
   ]
  },
  {
   "cell_type": "markdown",
   "metadata": {},
   "source": [
    "Caso as linhas e colunas desejadas não sejam consecutivas, também é possível usar listas:"
   ]
  },
  {
   "cell_type": "code",
   "execution_count": 50,
   "metadata": {},
   "outputs": [
    {
     "data": {
      "text/html": [
       "<div>\n",
       "<style scoped>\n",
       "    .dataframe tbody tr th:only-of-type {\n",
       "        vertical-align: middle;\n",
       "    }\n",
       "\n",
       "    .dataframe tbody tr th {\n",
       "        vertical-align: top;\n",
       "    }\n",
       "\n",
       "    .dataframe thead th {\n",
       "        text-align: right;\n",
       "    }\n",
       "</style>\n",
       "<table border=\"1\" class=\"dataframe\">\n",
       "  <thead>\n",
       "    <tr style=\"text-align: right;\">\n",
       "      <th></th>\n",
       "      <th>Fabricante</th>\n",
       "      <th>Graduação Alcoólica</th>\n",
       "      <th>País</th>\n",
       "    </tr>\n",
       "  </thead>\n",
       "  <tbody>\n",
       "    <tr>\n",
       "      <th>Punk IPA</th>\n",
       "      <td>Brewdog</td>\n",
       "      <td>5.6</td>\n",
       "      <td>Escócia</td>\n",
       "    </tr>\n",
       "    <tr>\n",
       "      <th>Eisenbahn</th>\n",
       "      <td>Eisenbahn</td>\n",
       "      <td>8.0</td>\n",
       "      <td>Brasil</td>\n",
       "    </tr>\n",
       "    <tr>\n",
       "      <th>Midway</th>\n",
       "      <td>Goose</td>\n",
       "      <td>4.1</td>\n",
       "      <td>Brasil</td>\n",
       "    </tr>\n",
       "  </tbody>\n",
       "</table>\n",
       "</div>"
      ],
      "text/plain": [
       "          Fabricante  Graduação Alcoólica     País\n",
       "Punk IPA     Brewdog                  5.6  Escócia\n",
       "Eisenbahn  Eisenbahn                  8.0   Brasil\n",
       "Midway         Goose                  4.1   Brasil"
      ]
     },
     "execution_count": 50,
     "metadata": {},
     "output_type": "execute_result"
    }
   ],
   "source": [
    "cervejas.loc[['Punk IPA', 'Eisenbahn', 'Midway'], ['Fabricante', 'Graduação Alcoólica', 'País']]"
   ]
  },
  {
   "cell_type": "markdown",
   "metadata": {},
   "source": [
    "Os intervalos informados também podem ser _\"abertos\"_:"
   ]
  },
  {
   "cell_type": "code",
   "execution_count": 52,
   "metadata": {},
   "outputs": [
    {
     "data": {
      "text/html": [
       "<div>\n",
       "<style scoped>\n",
       "    .dataframe tbody tr th:only-of-type {\n",
       "        vertical-align: middle;\n",
       "    }\n",
       "\n",
       "    .dataframe tbody tr th {\n",
       "        vertical-align: top;\n",
       "    }\n",
       "\n",
       "    .dataframe thead th {\n",
       "        text-align: right;\n",
       "    }\n",
       "</style>\n",
       "<table border=\"1\" class=\"dataframe\">\n",
       "  <thead>\n",
       "    <tr style=\"text-align: right;\">\n",
       "      <th></th>\n",
       "      <th>Volume</th>\n",
       "      <th>Graduação Alcoólica</th>\n",
       "    </tr>\n",
       "  </thead>\n",
       "  <tbody>\n",
       "    <tr>\n",
       "      <th>Vedett IPA</th>\n",
       "      <td>0.330</td>\n",
       "      <td>5.5</td>\n",
       "    </tr>\n",
       "    <tr>\n",
       "      <th>Eisenbahn</th>\n",
       "      <td>0.355</td>\n",
       "      <td>8.0</td>\n",
       "    </tr>\n",
       "    <tr>\n",
       "      <th>90 Wee Heavy</th>\n",
       "      <td>0.330</td>\n",
       "      <td>7.4</td>\n",
       "    </tr>\n",
       "    <tr>\n",
       "      <th>Trooper</th>\n",
       "      <td>0.500</td>\n",
       "      <td>4.7</td>\n",
       "    </tr>\n",
       "  </tbody>\n",
       "</table>\n",
       "</div>"
      ],
      "text/plain": [
       "              Volume  Graduação Alcoólica\n",
       "Vedett IPA     0.330                  5.5\n",
       "Eisenbahn      0.355                  8.0\n",
       "90 Wee Heavy   0.330                  7.4\n",
       "Trooper        0.500                  4.7"
      ]
     },
     "execution_count": 52,
     "metadata": {},
     "output_type": "execute_result"
    }
   ],
   "source": [
    "# todas as linhas até 'Trooper',\n",
    "# todas as colunas a partir de 'Volume'\n",
    "cervejas.loc[:'Trooper', 'Volume':]"
   ]
  },
  {
   "cell_type": "markdown",
   "metadata": {},
   "source": [
    "Note que, assim como já vimos em outras situações, quando usamos _labels_ para indicar o intervalo (como é obrigatório com a função `loc`), o último item identificado faz parte da resposta!"
   ]
  },
  {
   "cell_type": "markdown",
   "metadata": {},
   "source": [
    "Para obter todas as linhas, pode-se simplesmente indicar `:` como primeiro parâmetro:"
   ]
  },
  {
   "cell_type": "code",
   "execution_count": 53,
   "metadata": {},
   "outputs": [
    {
     "data": {
      "text/html": [
       "<div>\n",
       "<style scoped>\n",
       "    .dataframe tbody tr th:only-of-type {\n",
       "        vertical-align: middle;\n",
       "    }\n",
       "\n",
       "    .dataframe tbody tr th {\n",
       "        vertical-align: top;\n",
       "    }\n",
       "\n",
       "    .dataframe thead th {\n",
       "        text-align: right;\n",
       "    }\n",
       "</style>\n",
       "<table border=\"1\" class=\"dataframe\">\n",
       "  <thead>\n",
       "    <tr style=\"text-align: right;\">\n",
       "      <th></th>\n",
       "      <th>Fabricante</th>\n",
       "      <th>País</th>\n",
       "    </tr>\n",
       "  </thead>\n",
       "  <tbody>\n",
       "    <tr>\n",
       "      <th>Vedett IPA</th>\n",
       "      <td>Vedett</td>\n",
       "      <td>Bélgica</td>\n",
       "    </tr>\n",
       "    <tr>\n",
       "      <th>Eisenbahn</th>\n",
       "      <td>Eisenbahn</td>\n",
       "      <td>Brasil</td>\n",
       "    </tr>\n",
       "    <tr>\n",
       "      <th>90 Wee Heavy</th>\n",
       "      <td>Belhaven</td>\n",
       "      <td>Escócia</td>\n",
       "    </tr>\n",
       "    <tr>\n",
       "      <th>Trooper</th>\n",
       "      <td>Robinsons</td>\n",
       "      <td>Inglaterra</td>\n",
       "    </tr>\n",
       "    <tr>\n",
       "      <th>Punk IPA</th>\n",
       "      <td>Brewdog</td>\n",
       "      <td>Escócia</td>\n",
       "    </tr>\n",
       "    <tr>\n",
       "      <th>Golden Pride</th>\n",
       "      <td>Fuller's</td>\n",
       "      <td>Inglaterra</td>\n",
       "    </tr>\n",
       "    <tr>\n",
       "      <th>Midway</th>\n",
       "      <td>Goose</td>\n",
       "      <td>Brasil</td>\n",
       "    </tr>\n",
       "  </tbody>\n",
       "</table>\n",
       "</div>"
      ],
      "text/plain": [
       "             Fabricante        País\n",
       "Vedett IPA       Vedett     Bélgica\n",
       "Eisenbahn     Eisenbahn      Brasil\n",
       "90 Wee Heavy   Belhaven     Escócia\n",
       "Trooper       Robinsons  Inglaterra\n",
       "Punk IPA        Brewdog     Escócia\n",
       "Golden Pride   Fuller's  Inglaterra\n",
       "Midway            Goose      Brasil"
      ]
     },
     "execution_count": 53,
     "metadata": {},
     "output_type": "execute_result"
    }
   ],
   "source": [
    "cervejas.loc[:, ['Fabricante', 'País']]"
   ]
  },
  {
   "cell_type": "markdown",
   "metadata": {},
   "source": [
    "(mas, neste caso, `cervejas[['Fabricante', 'País']]` seria mais simples e teria o mesmo resultado.)"
   ]
  },
  {
   "cell_type": "markdown",
   "metadata": {},
   "source": [
    "__`iloc`__, por sua vez, tem sintaxe similar a `loc`, mas aceita apenas números para indicar as linhas e colunas desejadas. E, já que usamos números, volta a prevalecer a regra padrão do `Python`: o primeiro número indica o primeiro ítem a ser incluído no resultado, e o segundo indica o primeiro que ficará \"de fora\"."
   ]
  },
  {
   "cell_type": "code",
   "execution_count": 55,
   "metadata": {},
   "outputs": [
    {
     "data": {
      "text/html": [
       "<div>\n",
       "<style scoped>\n",
       "    .dataframe tbody tr th:only-of-type {\n",
       "        vertical-align: middle;\n",
       "    }\n",
       "\n",
       "    .dataframe tbody tr th {\n",
       "        vertical-align: top;\n",
       "    }\n",
       "\n",
       "    .dataframe thead th {\n",
       "        text-align: right;\n",
       "    }\n",
       "</style>\n",
       "<table border=\"1\" class=\"dataframe\">\n",
       "  <thead>\n",
       "    <tr style=\"text-align: right;\">\n",
       "      <th></th>\n",
       "      <th>Graduação Alcoólica</th>\n",
       "    </tr>\n",
       "  </thead>\n",
       "  <tbody>\n",
       "    <tr>\n",
       "      <th>Eisenbahn</th>\n",
       "      <td>8.0</td>\n",
       "    </tr>\n",
       "    <tr>\n",
       "      <th>90 Wee Heavy</th>\n",
       "      <td>7.4</td>\n",
       "    </tr>\n",
       "  </tbody>\n",
       "</table>\n",
       "</div>"
      ],
      "text/plain": [
       "              Graduação Alcoólica\n",
       "Eisenbahn                     8.0\n",
       "90 Wee Heavy                  7.4"
      ]
     },
     "execution_count": 55,
     "metadata": {},
     "output_type": "execute_result"
    }
   ],
   "source": [
    "cervejas.iloc[1:3, 4:]"
   ]
  },
  {
   "cell_type": "code",
   "execution_count": 56,
   "metadata": {},
   "outputs": [
    {
     "data": {
      "text/html": [
       "<div>\n",
       "<style scoped>\n",
       "    .dataframe tbody tr th:only-of-type {\n",
       "        vertical-align: middle;\n",
       "    }\n",
       "\n",
       "    .dataframe tbody tr th {\n",
       "        vertical-align: top;\n",
       "    }\n",
       "\n",
       "    .dataframe thead th {\n",
       "        text-align: right;\n",
       "    }\n",
       "</style>\n",
       "<table border=\"1\" class=\"dataframe\">\n",
       "  <thead>\n",
       "    <tr style=\"text-align: right;\">\n",
       "      <th></th>\n",
       "      <th>Volume</th>\n",
       "      <th>Graduação Alcoólica</th>\n",
       "    </tr>\n",
       "  </thead>\n",
       "  <tbody>\n",
       "    <tr>\n",
       "      <th>Golden Pride</th>\n",
       "      <td>0.500</td>\n",
       "      <td>8.5</td>\n",
       "    </tr>\n",
       "    <tr>\n",
       "      <th>Eisenbahn</th>\n",
       "      <td>0.355</td>\n",
       "      <td>8.0</td>\n",
       "    </tr>\n",
       "    <tr>\n",
       "      <th>Trooper</th>\n",
       "      <td>0.500</td>\n",
       "      <td>4.7</td>\n",
       "    </tr>\n",
       "  </tbody>\n",
       "</table>\n",
       "</div>"
      ],
      "text/plain": [
       "              Volume  Graduação Alcoólica\n",
       "Golden Pride   0.500                  8.5\n",
       "Eisenbahn      0.355                  8.0\n",
       "Trooper        0.500                  4.7"
      ]
     },
     "execution_count": 56,
     "metadata": {},
     "output_type": "execute_result"
    }
   ],
   "source": [
    "cervejas.iloc[[5, 1, 3], -2:]"
   ]
  },
  {
   "cell_type": "markdown",
   "metadata": {},
   "source": [
    "#### Filtragem\n",
    "\n",
    "Uma outra forma de selecionar linhas de um `DataFrame` é filtrando apenas aquelas que satisfazem a uma _regra_ (ou _predicado_, no jargão dos programadores). Para entender como isso funciona, devemos antes ver como criar uma `Series` apenas com `True` e `False` para indicar quais linhas satisfazem a uma determinada regra:"
   ]
  },
  {
   "cell_type": "code",
   "execution_count": 59,
   "metadata": {},
   "outputs": [],
   "source": [
    "garrafas_grandes = cervejas['Volume'] >= 0.5"
   ]
  },
  {
   "cell_type": "code",
   "execution_count": 60,
   "metadata": {},
   "outputs": [
    {
     "data": {
      "text/plain": [
       "Vedett IPA      False\n",
       "Eisenbahn       False\n",
       "90 Wee Heavy    False\n",
       "Trooper          True\n",
       "Punk IPA        False\n",
       "Golden Pride     True\n",
       "Midway          False\n",
       "Name: Volume, dtype: bool"
      ]
     },
     "execution_count": 60,
     "metadata": {},
     "output_type": "execute_result"
    }
   ],
   "source": [
    "garrafas_grandes"
   ]
  },
  {
   "cell_type": "markdown",
   "metadata": {},
   "source": [
    "Conferindo:"
   ]
  },
  {
   "cell_type": "code",
   "execution_count": 62,
   "metadata": {},
   "outputs": [
    {
     "data": {
      "text/plain": [
       "Vedett IPA      0.330\n",
       "Eisenbahn       0.355\n",
       "90 Wee Heavy    0.330\n",
       "Trooper         0.500\n",
       "Punk IPA        0.330\n",
       "Golden Pride    0.500\n",
       "Midway          0.355\n",
       "Name: Volume, dtype: float64"
      ]
     },
     "execution_count": 62,
     "metadata": {},
     "output_type": "execute_result"
    }
   ],
   "source": [
    "cervejas['Volume']"
   ]
  },
  {
   "cell_type": "markdown",
   "metadata": {},
   "source": [
    "Agora, aplicamos a filtragem:"
   ]
  },
  {
   "cell_type": "code",
   "execution_count": 63,
   "metadata": {},
   "outputs": [
    {
     "data": {
      "text/html": [
       "<div>\n",
       "<style scoped>\n",
       "    .dataframe tbody tr th:only-of-type {\n",
       "        vertical-align: middle;\n",
       "    }\n",
       "\n",
       "    .dataframe tbody tr th {\n",
       "        vertical-align: top;\n",
       "    }\n",
       "\n",
       "    .dataframe thead th {\n",
       "        text-align: right;\n",
       "    }\n",
       "</style>\n",
       "<table border=\"1\" class=\"dataframe\">\n",
       "  <thead>\n",
       "    <tr style=\"text-align: right;\">\n",
       "      <th></th>\n",
       "      <th>Fabricante</th>\n",
       "      <th>Tipo</th>\n",
       "      <th>País</th>\n",
       "      <th>Volume</th>\n",
       "      <th>Graduação Alcoólica</th>\n",
       "    </tr>\n",
       "  </thead>\n",
       "  <tbody>\n",
       "    <tr>\n",
       "      <th>Trooper</th>\n",
       "      <td>Robinsons</td>\n",
       "      <td>Premium Britisch Beer</td>\n",
       "      <td>Inglaterra</td>\n",
       "      <td>0.5</td>\n",
       "      <td>4.7</td>\n",
       "    </tr>\n",
       "    <tr>\n",
       "      <th>Golden Pride</th>\n",
       "      <td>Fuller's</td>\n",
       "      <td>Superior Strong Ale</td>\n",
       "      <td>Inglaterra</td>\n",
       "      <td>0.5</td>\n",
       "      <td>8.5</td>\n",
       "    </tr>\n",
       "  </tbody>\n",
       "</table>\n",
       "</div>"
      ],
      "text/plain": [
       "             Fabricante                   Tipo        País  Volume  \\\n",
       "Trooper       Robinsons  Premium Britisch Beer  Inglaterra     0.5   \n",
       "Golden Pride   Fuller's    Superior Strong Ale  Inglaterra     0.5   \n",
       "\n",
       "              Graduação Alcoólica  \n",
       "Trooper                       4.7  \n",
       "Golden Pride                  8.5  "
      ]
     },
     "execution_count": 63,
     "metadata": {},
     "output_type": "execute_result"
    }
   ],
   "source": [
    "cervejas[garrafas_grandes]"
   ]
  },
  {
   "cell_type": "markdown",
   "metadata": {},
   "source": [
    "Parece que na Inglaterra eles preferem as garrafas de 500ml !"
   ]
  },
  {
   "cell_type": "markdown",
   "metadata": {},
   "source": [
    "Agora, em uma única etapa:"
   ]
  },
  {
   "cell_type": "code",
   "execution_count": 65,
   "metadata": {},
   "outputs": [
    {
     "data": {
      "text/html": [
       "<div>\n",
       "<style scoped>\n",
       "    .dataframe tbody tr th:only-of-type {\n",
       "        vertical-align: middle;\n",
       "    }\n",
       "\n",
       "    .dataframe tbody tr th {\n",
       "        vertical-align: top;\n",
       "    }\n",
       "\n",
       "    .dataframe thead th {\n",
       "        text-align: right;\n",
       "    }\n",
       "</style>\n",
       "<table border=\"1\" class=\"dataframe\">\n",
       "  <thead>\n",
       "    <tr style=\"text-align: right;\">\n",
       "      <th></th>\n",
       "      <th>Fabricante</th>\n",
       "      <th>Tipo</th>\n",
       "      <th>País</th>\n",
       "      <th>Volume</th>\n",
       "      <th>Graduação Alcoólica</th>\n",
       "    </tr>\n",
       "  </thead>\n",
       "  <tbody>\n",
       "    <tr>\n",
       "      <th>Vedett IPA</th>\n",
       "      <td>Vedett</td>\n",
       "      <td>IPA</td>\n",
       "      <td>Bélgica</td>\n",
       "      <td>0.330</td>\n",
       "      <td>5.5</td>\n",
       "    </tr>\n",
       "    <tr>\n",
       "      <th>Eisenbahn</th>\n",
       "      <td>Eisenbahn</td>\n",
       "      <td>Strong Golden Ale</td>\n",
       "      <td>Brasil</td>\n",
       "      <td>0.355</td>\n",
       "      <td>8.0</td>\n",
       "    </tr>\n",
       "    <tr>\n",
       "      <th>90 Wee Heavy</th>\n",
       "      <td>Belhaven</td>\n",
       "      <td>Rich Scottish Ale</td>\n",
       "      <td>Escócia</td>\n",
       "      <td>0.330</td>\n",
       "      <td>7.4</td>\n",
       "    </tr>\n",
       "    <tr>\n",
       "      <th>Punk IPA</th>\n",
       "      <td>Brewdog</td>\n",
       "      <td>IPA</td>\n",
       "      <td>Escócia</td>\n",
       "      <td>0.330</td>\n",
       "      <td>5.6</td>\n",
       "    </tr>\n",
       "    <tr>\n",
       "      <th>Golden Pride</th>\n",
       "      <td>Fuller's</td>\n",
       "      <td>Superior Strong Ale</td>\n",
       "      <td>Inglaterra</td>\n",
       "      <td>0.500</td>\n",
       "      <td>8.5</td>\n",
       "    </tr>\n",
       "  </tbody>\n",
       "</table>\n",
       "</div>"
      ],
      "text/plain": [
       "             Fabricante                 Tipo        País  Volume  \\\n",
       "Vedett IPA       Vedett                  IPA     Bélgica   0.330   \n",
       "Eisenbahn     Eisenbahn    Strong Golden Ale      Brasil   0.355   \n",
       "90 Wee Heavy   Belhaven    Rich Scottish Ale     Escócia   0.330   \n",
       "Punk IPA        Brewdog                  IPA     Escócia   0.330   \n",
       "Golden Pride   Fuller's  Superior Strong Ale  Inglaterra   0.500   \n",
       "\n",
       "              Graduação Alcoólica  \n",
       "Vedett IPA                    5.5  \n",
       "Eisenbahn                     8.0  \n",
       "90 Wee Heavy                  7.4  \n",
       "Punk IPA                      5.6  \n",
       "Golden Pride                  8.5  "
      ]
     },
     "execution_count": 65,
     "metadata": {},
     "output_type": "execute_result"
    }
   ],
   "source": [
    "cervejas[cervejas['Graduação Alcoólica'] > 5.0]"
   ]
  },
  {
   "cell_type": "markdown",
   "metadata": {},
   "source": [
    "E juntando os dois filtros:"
   ]
  },
  {
   "cell_type": "code",
   "execution_count": 67,
   "metadata": {},
   "outputs": [
    {
     "data": {
      "text/html": [
       "<div>\n",
       "<style scoped>\n",
       "    .dataframe tbody tr th:only-of-type {\n",
       "        vertical-align: middle;\n",
       "    }\n",
       "\n",
       "    .dataframe tbody tr th {\n",
       "        vertical-align: top;\n",
       "    }\n",
       "\n",
       "    .dataframe thead th {\n",
       "        text-align: right;\n",
       "    }\n",
       "</style>\n",
       "<table border=\"1\" class=\"dataframe\">\n",
       "  <thead>\n",
       "    <tr style=\"text-align: right;\">\n",
       "      <th></th>\n",
       "      <th>Fabricante</th>\n",
       "      <th>Tipo</th>\n",
       "      <th>País</th>\n",
       "      <th>Volume</th>\n",
       "      <th>Graduação Alcoólica</th>\n",
       "    </tr>\n",
       "  </thead>\n",
       "  <tbody>\n",
       "    <tr>\n",
       "      <th>Golden Pride</th>\n",
       "      <td>Fuller's</td>\n",
       "      <td>Superior Strong Ale</td>\n",
       "      <td>Inglaterra</td>\n",
       "      <td>0.5</td>\n",
       "      <td>8.5</td>\n",
       "    </tr>\n",
       "  </tbody>\n",
       "</table>\n",
       "</div>"
      ],
      "text/plain": [
       "             Fabricante                 Tipo        País  Volume  \\\n",
       "Golden Pride   Fuller's  Superior Strong Ale  Inglaterra     0.5   \n",
       "\n",
       "              Graduação Alcoólica  \n",
       "Golden Pride                  8.5  "
      ]
     },
     "execution_count": 67,
     "metadata": {},
     "output_type": "execute_result"
    }
   ],
   "source": [
    "cervejas[(cervejas['Volume'] >= 0.5) & (cervejas['Graduação Alcoólica'] > 5.0)]"
   ]
  },
  {
   "cell_type": "markdown",
   "metadata": {},
   "source": [
    "__ATENÇÃO__: note os parênteses na expressão acima! Se você os remover, o `Python` vai reclamar que não se pode comparar um _float_ com um valor _booleano_!"
   ]
  },
  {
   "cell_type": "markdown",
   "metadata": {},
   "source": [
    "Também é possível filtrar apenas valores que se encontram em uma lista:"
   ]
  },
  {
   "cell_type": "code",
   "execution_count": 71,
   "metadata": {},
   "outputs": [
    {
     "data": {
      "text/html": [
       "<div>\n",
       "<style scoped>\n",
       "    .dataframe tbody tr th:only-of-type {\n",
       "        vertical-align: middle;\n",
       "    }\n",
       "\n",
       "    .dataframe tbody tr th {\n",
       "        vertical-align: top;\n",
       "    }\n",
       "\n",
       "    .dataframe thead th {\n",
       "        text-align: right;\n",
       "    }\n",
       "</style>\n",
       "<table border=\"1\" class=\"dataframe\">\n",
       "  <thead>\n",
       "    <tr style=\"text-align: right;\">\n",
       "      <th></th>\n",
       "      <th>Fabricante</th>\n",
       "      <th>Tipo</th>\n",
       "      <th>País</th>\n",
       "      <th>Volume</th>\n",
       "      <th>Graduação Alcoólica</th>\n",
       "    </tr>\n",
       "  </thead>\n",
       "  <tbody>\n",
       "    <tr>\n",
       "      <th>90 Wee Heavy</th>\n",
       "      <td>Belhaven</td>\n",
       "      <td>Rich Scottish Ale</td>\n",
       "      <td>Escócia</td>\n",
       "      <td>0.33</td>\n",
       "      <td>7.4</td>\n",
       "    </tr>\n",
       "    <tr>\n",
       "      <th>Trooper</th>\n",
       "      <td>Robinsons</td>\n",
       "      <td>Premium Britisch Beer</td>\n",
       "      <td>Inglaterra</td>\n",
       "      <td>0.50</td>\n",
       "      <td>4.7</td>\n",
       "    </tr>\n",
       "    <tr>\n",
       "      <th>Punk IPA</th>\n",
       "      <td>Brewdog</td>\n",
       "      <td>IPA</td>\n",
       "      <td>Escócia</td>\n",
       "      <td>0.33</td>\n",
       "      <td>5.6</td>\n",
       "    </tr>\n",
       "    <tr>\n",
       "      <th>Golden Pride</th>\n",
       "      <td>Fuller's</td>\n",
       "      <td>Superior Strong Ale</td>\n",
       "      <td>Inglaterra</td>\n",
       "      <td>0.50</td>\n",
       "      <td>8.5</td>\n",
       "    </tr>\n",
       "  </tbody>\n",
       "</table>\n",
       "</div>"
      ],
      "text/plain": [
       "             Fabricante                   Tipo        País  Volume  \\\n",
       "90 Wee Heavy   Belhaven      Rich Scottish Ale     Escócia    0.33   \n",
       "Trooper       Robinsons  Premium Britisch Beer  Inglaterra    0.50   \n",
       "Punk IPA        Brewdog                    IPA     Escócia    0.33   \n",
       "Golden Pride   Fuller's    Superior Strong Ale  Inglaterra    0.50   \n",
       "\n",
       "              Graduação Alcoólica  \n",
       "90 Wee Heavy                  7.4  \n",
       "Trooper                       4.7  \n",
       "Punk IPA                      5.6  \n",
       "Golden Pride                  8.5  "
      ]
     },
     "execution_count": 71,
     "metadata": {},
     "output_type": "execute_result"
    }
   ],
   "source": [
    "reino_unido = ['Inglaterra', 'Escócia', 'País de Gales', 'Irlanda do Norte']\n",
    "cervejas[cervejas['País'].isin(reino_unido)]"
   ]
  }
 ],
 "metadata": {
  "kernelspec": {
   "display_name": "Python 3",
   "language": "python",
   "name": "python3"
  },
  "language_info": {
   "codemirror_mode": {
    "name": "ipython",
    "version": 3
   },
   "file_extension": ".py",
   "mimetype": "text/x-python",
   "name": "python",
   "nbconvert_exporter": "python",
   "pygments_lexer": "ipython3",
   "version": "3.7.3"
  }
 },
 "nbformat": 4,
 "nbformat_minor": 2
}
