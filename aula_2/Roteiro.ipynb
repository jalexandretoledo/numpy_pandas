{
 "cells": [
  {
   "cell_type": "markdown",
   "metadata": {},
   "source": [
    "# NumPy & Pandas"
   ]
  },
  {
   "cell_type": "markdown",
   "metadata": {},
   "source": [
    "## Roteiro\n",
    "\n",
    " 1. SciPy.org\n",
    " 1. NumPy\n",
    "    1. O que é\n",
    "    1. Criação de arrays\n",
    "    1. Operações básicas\n",
    "    1. NumPy não é só sobre matrizes\n",
    "    1. Outras funções do NumPy\n",
    " 1. Pandas\n",
    "    1. Series\n",
    "        1. Índices e Dados\n",
    "        1. Indexing e Slicing\n",
    "    1. DataFrames\n",
    "        1. linhas, colunas, índices\n",
    "            1. labels x posições\n",
    "        1. shape, dtypes\n",
    "        1. head & tail & sample\n",
    "        1. Indexing & Slicing\n",
    "            1. loc\n",
    "            1. iloc\n",
    "            1. take\n",
    "        1. Filtering\n",
    "        1. Lendo e Gravando arquivos\n",
    "            1. .csv\n",
    "                1. separadores\n",
    "                1. decimais\n",
    "                1. datas\n",
    "                1. quoting\n",
    "                1. header\n",
    "            1. .xlsx\n",
    "                1. abas\n",
    "            1. Lendo diretamente da Internet\n",
    "            1. Outros formatos\n",
    "            1. Gravando arquivos\n",
    "        1. Operações básicas\n",
    "            1. describe\n",
    "            1. transpose\n",
    "            1. ausência de valores\n",
    "                1. dropna\n",
    "                1. fillna\n",
    "                1. isna\n",
    "            1. sum\n",
    "                1. numeric_only=True\n",
    "            1. sort_index e sort_values\n",
    "            1. value_counts, unique, nunique\n",
    "            1. funções estatísticas\n",
    "        1. Modificações\n",
    "            1. cópia x referência\n",
    "            1. adicionando e removendo colunas\n",
    "            1. apply\n",
    "            "
   ]
  }
 ],
 "metadata": {
  "kernelspec": {
   "display_name": "Python 3",
   "language": "python",
   "name": "python3"
  },
  "language_info": {
   "codemirror_mode": {
    "name": "ipython",
    "version": 3
   },
   "file_extension": ".py",
   "mimetype": "text/x-python",
   "name": "python",
   "nbconvert_exporter": "python",
   "pygments_lexer": "ipython3",
   "version": "3.7.3"
  }
 },
 "nbformat": 4,
 "nbformat_minor": 2
}
