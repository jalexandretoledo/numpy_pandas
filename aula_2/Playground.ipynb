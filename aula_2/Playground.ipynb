{
 "cells": [
  {
   "cell_type": "code",
   "execution_count": 1,
   "metadata": {},
   "outputs": [],
   "source": [
    "import numpy as np"
   ]
  },
  {
   "cell_type": "markdown",
   "metadata": {},
   "source": [
    "## NumPy: criação de matrizes"
   ]
  },
  {
   "cell_type": "code",
   "execution_count": 2,
   "metadata": {},
   "outputs": [
    {
     "data": {
      "text/plain": [
       "array([[0., 0., 0., 0.],\n",
       "       [0., 0., 0., 0.],\n",
       "       [0., 0., 0., 0.],\n",
       "       [0., 0., 0., 0.]])"
      ]
     },
     "execution_count": 2,
     "metadata": {},
     "output_type": "execute_result"
    }
   ],
   "source": [
    "np.zeros((4, 4))"
   ]
  },
  {
   "cell_type": "code",
   "execution_count": 3,
   "metadata": {},
   "outputs": [
    {
     "data": {
      "text/plain": [
       "array([[1., 1., 1.],\n",
       "       [1., 1., 1.],\n",
       "       [1., 1., 1.],\n",
       "       [1., 1., 1.],\n",
       "       [1., 1., 1.]])"
      ]
     },
     "execution_count": 3,
     "metadata": {},
     "output_type": "execute_result"
    }
   ],
   "source": [
    "np.ones((5, 3))"
   ]
  },
  {
   "cell_type": "code",
   "execution_count": 4,
   "metadata": {},
   "outputs": [
    {
     "data": {
      "text/plain": [
       "array([[1., 0., 0., 0., 0., 0., 0., 0.],\n",
       "       [0., 1., 0., 0., 0., 0., 0., 0.],\n",
       "       [0., 0., 1., 0., 0., 0., 0., 0.],\n",
       "       [0., 0., 0., 1., 0., 0., 0., 0.],\n",
       "       [0., 0., 0., 0., 1., 0., 0., 0.],\n",
       "       [0., 0., 0., 0., 0., 1., 0., 0.],\n",
       "       [0., 0., 0., 0., 0., 0., 1., 0.],\n",
       "       [0., 0., 0., 0., 0., 0., 0., 1.]])"
      ]
     },
     "execution_count": 4,
     "metadata": {},
     "output_type": "execute_result"
    }
   ],
   "source": [
    "np.identity(8)"
   ]
  },
  {
   "cell_type": "code",
   "execution_count": 5,
   "metadata": {},
   "outputs": [
    {
     "data": {
      "text/plain": [
       "array([[0., 0., 0., 0., 0.],\n",
       "       [1., 0., 0., 0., 0.],\n",
       "       [0., 1., 0., 0., 0.],\n",
       "       [0., 0., 1., 0., 0.],\n",
       "       [0., 0., 0., 1., 0.]])"
      ]
     },
     "execution_count": 5,
     "metadata": {},
     "output_type": "execute_result"
    }
   ],
   "source": [
    "np.eye(5, 5, k=-1)"
   ]
  },
  {
   "cell_type": "code",
   "execution_count": 6,
   "metadata": {},
   "outputs": [
    {
     "data": {
      "text/plain": [
       "array([1, 2, 3, 4, 5, 6, 7, 8])"
      ]
     },
     "execution_count": 6,
     "metadata": {},
     "output_type": "execute_result"
    }
   ],
   "source": [
    "lista_python = [1, 2, 3, 4, 5, 6, 7, 8 ]\n",
    "np.array(lista_python)"
   ]
  },
  {
   "cell_type": "code",
   "execution_count": 7,
   "metadata": {},
   "outputs": [
    {
     "data": {
      "text/plain": [
       "array([[1, 2, 3, 4],\n",
       "       [5, 6, 7, 8]])"
      ]
     },
     "execution_count": 7,
     "metadata": {},
     "output_type": "execute_result"
    }
   ],
   "source": [
    "np.array(lista_python).reshape(2, -1)"
   ]
  },
  {
   "cell_type": "code",
   "execution_count": 8,
   "metadata": {},
   "outputs": [
    {
     "data": {
      "text/plain": [
       "array([[ 0,  7],\n",
       "       [14, 21],\n",
       "       [28, 35],\n",
       "       [42, 49],\n",
       "       [56, 63]])"
      ]
     },
     "execution_count": 8,
     "metadata": {},
     "output_type": "execute_result"
    }
   ],
   "source": [
    "np.array(np.arange(0, 70, 7)).reshape(5, -1)"
   ]
  },
  {
   "cell_type": "code",
   "execution_count": 9,
   "metadata": {},
   "outputs": [
    {
     "data": {
      "text/plain": [
       "array([[ 0,  1,  2,  3],\n",
       "       [ 4,  5,  6,  7],\n",
       "       [ 8,  9, 10, 11],\n",
       "       [12, 13, 14, 15]])"
      ]
     },
     "execution_count": 9,
     "metadata": {},
     "output_type": "execute_result"
    }
   ],
   "source": [
    "a = np.array(np.arange(0, 16)).reshape(4, -1)\n",
    "a"
   ]
  },
  {
   "cell_type": "code",
   "execution_count": 10,
   "metadata": {},
   "outputs": [
    {
     "data": {
      "text/plain": [
       "array([[ 1.        ,  1.93333333,  2.86666667,  3.8       ],\n",
       "       [ 4.73333333,  5.66666667,  6.6       ,  7.53333333],\n",
       "       [ 8.46666667,  9.4       , 10.33333333, 11.26666667],\n",
       "       [12.2       , 13.13333333, 14.06666667, 15.        ]])"
      ]
     },
     "execution_count": 10,
     "metadata": {},
     "output_type": "execute_result"
    }
   ],
   "source": [
    "np.linspace(1, 15, 16).reshape(4, -1)"
   ]
  },
  {
   "cell_type": "code",
   "execution_count": 11,
   "metadata": {},
   "outputs": [
    {
     "data": {
      "text/plain": [
       "array([[1.00000000e+01, 8.57695899e+01, 7.35642254e+02, 6.30957344e+03],\n",
       "       [5.41169527e+04, 4.64158883e+05, 3.98107171e+06, 3.41454887e+07],\n",
       "       [2.92864456e+08, 2.51188643e+09, 2.15443469e+10, 1.84784980e+11],\n",
       "       [1.58489319e+12, 1.35935639e+13, 1.16591440e+14, 1.00000000e+15]])"
      ]
     },
     "execution_count": 11,
     "metadata": {},
     "output_type": "execute_result"
    }
   ],
   "source": [
    "np.logspace(1, 15, 16).reshape(4, -1)"
   ]
  },
  {
   "cell_type": "code",
   "execution_count": 12,
   "metadata": {},
   "outputs": [
    {
     "data": {
      "text/plain": [
       "array([[-1.10284277,  1.22922119, -1.52283191,  0.83165561],\n",
       "       [ 0.91339414,  0.81621042, -1.80267792,  0.3625168 ],\n",
       "       [-0.93606761,  0.24358855,  0.64042409, -0.76276265],\n",
       "       [-0.28609315, -0.07913815,  1.03141317,  0.35793688]])"
      ]
     },
     "execution_count": 12,
     "metadata": {},
     "output_type": "execute_result"
    }
   ],
   "source": [
    "np.random.normal(loc=0.0, scale=1.0, size=(4, 4))"
   ]
  },
  {
   "cell_type": "code",
   "execution_count": 56,
   "metadata": {},
   "outputs": [
    {
     "data": {
      "text/plain": [
       "array([[[ 0,  1,  2],\n",
       "        [ 3,  4,  5],\n",
       "        [ 6,  7,  8]],\n",
       "\n",
       "       [[ 9, 10, 11],\n",
       "        [12, 13, 14],\n",
       "        [15, 16, 17]],\n",
       "\n",
       "       [[18, 19, 20],\n",
       "        [21, 22, 23],\n",
       "        [24, 25, 26]]])"
      ]
     },
     "execution_count": 56,
     "metadata": {},
     "output_type": "execute_result"
    }
   ],
   "source": [
    "tridim = np.array(np.arange(0, 27)).reshape(3, 3, -1)\n",
    "tridim"
   ]
  },
  {
   "cell_type": "code",
   "execution_count": 57,
   "metadata": {},
   "outputs": [
    {
     "data": {
      "text/plain": [
       "21"
      ]
     },
     "execution_count": 57,
     "metadata": {},
     "output_type": "execute_result"
    }
   ],
   "source": [
    "bloco = 2\n",
    "linha = 1\n",
    "coluna = 0\n",
    "tridim[bloco, linha, coluna]"
   ]
  },
  {
   "cell_type": "code",
   "execution_count": 60,
   "metadata": {},
   "outputs": [
    {
     "data": {
      "text/plain": [
       "array([[[[ 0,  1,  2],\n",
       "         [ 3,  4,  5],\n",
       "         [ 6,  7,  8]],\n",
       "\n",
       "        [[ 9, 10, 11],\n",
       "         [12, 13, 14],\n",
       "         [15, 16, 17]],\n",
       "\n",
       "        [[18, 19, 20],\n",
       "         [21, 22, 23],\n",
       "         [24, 25, 26]]],\n",
       "\n",
       "\n",
       "       [[[27, 28, 29],\n",
       "         [30, 31, 32],\n",
       "         [33, 34, 35]],\n",
       "\n",
       "        [[36, 37, 38],\n",
       "         [39, 40, 41],\n",
       "         [42, 43, 44]],\n",
       "\n",
       "        [[45, 46, 47],\n",
       "         [48, 49, 50],\n",
       "         [51, 52, 53]]],\n",
       "\n",
       "\n",
       "       [[[54, 55, 56],\n",
       "         [57, 58, 59],\n",
       "         [60, 61, 62]],\n",
       "\n",
       "        [[63, 64, 65],\n",
       "         [66, 67, 68],\n",
       "         [69, 70, 71]],\n",
       "\n",
       "        [[72, 73, 74],\n",
       "         [75, 76, 77],\n",
       "         [78, 79, 80]]]])"
      ]
     },
     "execution_count": 60,
     "metadata": {},
     "output_type": "execute_result"
    }
   ],
   "source": [
    "qd = np.array(np.arange(0, 81)).reshape(3, 3, 3, -1)\n",
    "qd"
   ]
  },
  {
   "cell_type": "markdown",
   "metadata": {},
   "source": [
    "## NumPy - funções"
   ]
  },
  {
   "cell_type": "code",
   "execution_count": 66,
   "metadata": {},
   "outputs": [
    {
     "data": {
      "text/plain": [
       "array([[-10,  -8],\n",
       "       [ -6,  -4],\n",
       "       [ -2,   0],\n",
       "       [  2,   4],\n",
       "       [  6,   8]])"
      ]
     },
     "execution_count": 66,
     "metadata": {},
     "output_type": "execute_result"
    }
   ],
   "source": [
    "teste = np.arange(-10, 10, 2).reshape(5, -1)\n",
    "teste"
   ]
  },
  {
   "cell_type": "code",
   "execution_count": 67,
   "metadata": {},
   "outputs": [
    {
     "data": {
      "text/plain": [
       "-10"
      ]
     },
     "execution_count": 67,
     "metadata": {},
     "output_type": "execute_result"
    }
   ],
   "source": [
    "np.sum(teste)"
   ]
  },
  {
   "cell_type": "code",
   "execution_count": 68,
   "metadata": {},
   "outputs": [
    {
     "data": {
      "text/plain": [
       "array([[-50, -40],\n",
       "       [-30, -20],\n",
       "       [-10,   0],\n",
       "       [ 10,  20],\n",
       "       [ 30,  40]])"
      ]
     },
     "execution_count": 68,
     "metadata": {},
     "output_type": "execute_result"
    }
   ],
   "source": [
    "teste * 5"
   ]
  },
  {
   "cell_type": "code",
   "execution_count": 69,
   "metadata": {},
   "outputs": [
    {
     "data": {
      "text/plain": [
       "array([[-3.33333333, -2.66666667],\n",
       "       [-2.        , -1.33333333],\n",
       "       [-0.66666667,  0.        ],\n",
       "       [ 0.66666667,  1.33333333],\n",
       "       [ 2.        ,  2.66666667]])"
      ]
     },
     "execution_count": 69,
     "metadata": {},
     "output_type": "execute_result"
    }
   ],
   "source": [
    "teste / 3"
   ]
  },
  {
   "cell_type": "code",
   "execution_count": 71,
   "metadata": {},
   "outputs": [
    {
     "data": {
      "text/plain": [
       "array([[1.        , 1.41421356],\n",
       "       [1.73205081, 2.        ],\n",
       "       [3.        , 4.        ]])"
      ]
     },
     "execution_count": 71,
     "metadata": {},
     "output_type": "execute_result"
    }
   ],
   "source": [
    "np.sqrt(np.array([ 1, 2, 3, 4, 9, 16 ]).reshape(3, -1))"
   ]
  },
  {
   "cell_type": "code",
   "execution_count": 72,
   "metadata": {},
   "outputs": [
    {
     "name": "stderr",
     "output_type": "stream",
     "text": [
      "/home/jtoledo/projects/github/numpy_pandas/lib/python3.7/site-packages/ipykernel_launcher.py:1: RuntimeWarning: invalid value encountered in sqrt\n",
      "  \"\"\"Entry point for launching an IPython kernel.\n"
     ]
    },
    {
     "data": {
      "text/plain": [
       "array([[1.        , 1.41421356],\n",
       "       [1.73205081, 2.        ],\n",
       "       [3.        ,        nan]])"
      ]
     },
     "execution_count": 72,
     "metadata": {},
     "output_type": "execute_result"
    }
   ],
   "source": [
    "np.sqrt(np.array([ 1, 2, 3, 4, 9, -2 ]).reshape(3, -1))"
   ]
  },
  {
   "cell_type": "code",
   "execution_count": 15,
   "metadata": {},
   "outputs": [
    {
     "data": {
      "text/plain": [
       "array([[1.41421356+0.j        , 1.73205081+0.j        ],\n",
       "       [2.        +0.j        , 3.        +0.j        ],\n",
       "       [4.        +0.j        , 0.        +1.41421356j]])"
      ]
     },
     "execution_count": 15,
     "metadata": {},
     "output_type": "execute_result"
    }
   ],
   "source": [
    "np.sqrt(np.array([ 2, 3, 4, 9, 16, -2+0J ]).reshape(3, -1))"
   ]
  },
  {
   "cell_type": "code",
   "execution_count": null,
   "metadata": {},
   "outputs": [],
   "source": [
    "a = np.arange(1, 26).reshape(5, -1)"
   ]
  },
  {
   "cell_type": "code",
   "execution_count": 93,
   "metadata": {},
   "outputs": [
    {
     "data": {
      "text/plain": [
       "array([[ 1,  2,  3,  4,  5],\n",
       "       [ 6,  7,  8,  9, 10],\n",
       "       [11, 12, 13, 14, 15],\n",
       "       [16, 17, 18, 19, 20],\n",
       "       [21, 22, 23, 24, 25]])"
      ]
     },
     "execution_count": 93,
     "metadata": {},
     "output_type": "execute_result"
    }
   ],
   "source": [
    "a"
   ]
  },
  {
   "cell_type": "code",
   "execution_count": 94,
   "metadata": {},
   "outputs": [
    {
     "data": {
      "text/plain": [
       "array([[  5,  10,  15,  20,  25],\n",
       "       [ 30,  35,  40,  45,  50],\n",
       "       [ 55,  60,  65,  70,  75],\n",
       "       [ 80,  85,  90,  95, 100],\n",
       "       [105, 110, 115, 120, 125]])"
      ]
     },
     "execution_count": 94,
     "metadata": {},
     "output_type": "execute_result"
    }
   ],
   "source": [
    "a * 5"
   ]
  },
  {
   "cell_type": "code",
   "execution_count": 95,
   "metadata": {},
   "outputs": [
    {
     "data": {
      "text/plain": [
       "array([[ 6,  7,  8,  9, 10],\n",
       "       [11, 12, 13, 14, 15],\n",
       "       [16, 17, 18, 19, 20],\n",
       "       [21, 22, 23, 24, 25],\n",
       "       [26, 27, 28, 29, 30]])"
      ]
     },
     "execution_count": 95,
     "metadata": {},
     "output_type": "execute_result"
    }
   ],
   "source": [
    "a + 5"
   ]
  },
  {
   "cell_type": "code",
   "execution_count": 96,
   "metadata": {},
   "outputs": [
    {
     "data": {
      "text/plain": [
       "array([[ 1,  2,  3,  4,  5],\n",
       "       [ 6,  7,  8,  9, 10],\n",
       "       [11, 12, 13, 14, 15],\n",
       "       [16, 17, 18, 19, 20],\n",
       "       [21, 22, 23, 24, 25]])"
      ]
     },
     "execution_count": 96,
     "metadata": {},
     "output_type": "execute_result"
    }
   ],
   "source": [
    "a"
   ]
  },
  {
   "cell_type": "code",
   "execution_count": 87,
   "metadata": {},
   "outputs": [],
   "source": [
    "b = np.arange(10, 260, 10).reshape(5, -1)"
   ]
  },
  {
   "cell_type": "code",
   "execution_count": 89,
   "metadata": {},
   "outputs": [
    {
     "data": {
      "text/plain": [
       "array([[ 10,  20,  30,  40,  50],\n",
       "       [ 60,  70,  80,  90, 100],\n",
       "       [110, 120, 130, 140, 150],\n",
       "       [160, 170, 180, 190, 200],\n",
       "       [210, 220, 230, 240, 250]])"
      ]
     },
     "execution_count": 89,
     "metadata": {},
     "output_type": "execute_result"
    }
   ],
   "source": [
    "b"
   ]
  },
  {
   "cell_type": "code",
   "execution_count": 91,
   "metadata": {},
   "outputs": [
    {
     "data": {
      "text/plain": [
       "array([[  10,   40,   90,  160,  250],\n",
       "       [ 360,  490,  640,  810, 1000],\n",
       "       [1210, 1440, 1690, 1960, 2250],\n",
       "       [2560, 2890, 3240, 3610, 4000],\n",
       "       [4410, 4840, 5290, 5760, 6250]])"
      ]
     },
     "execution_count": 91,
     "metadata": {},
     "output_type": "execute_result"
    }
   ],
   "source": [
    "a * b"
   ]
  },
  {
   "cell_type": "code",
   "execution_count": 90,
   "metadata": {},
   "outputs": [
    {
     "data": {
      "text/plain": [
       "array([[ 2150,  2300,  2450,  2600,  2750],\n",
       "       [ 4900,  5300,  5700,  6100,  6500],\n",
       "       [ 7650,  8300,  8950,  9600, 10250],\n",
       "       [10400, 11300, 12200, 13100, 14000],\n",
       "       [13150, 14300, 15450, 16600, 17750]])"
      ]
     },
     "execution_count": 90,
     "metadata": {},
     "output_type": "execute_result"
    }
   ],
   "source": [
    "np.matmul(a, b)"
   ]
  },
  {
   "cell_type": "markdown",
   "metadata": {},
   "source": [
    "## NumPy - álgebra linear"
   ]
  },
  {
   "cell_type": "code",
   "execution_count": 16,
   "metadata": {},
   "outputs": [
    {
     "data": {
      "text/plain": [
       "array([[0.18141406, 0.35429984, 0.89687568, 0.83520374],\n",
       "       [0.45610414, 0.57056919, 0.10473303, 0.65799221],\n",
       "       [0.24159104, 0.55064035, 0.01675039, 0.42076861],\n",
       "       [0.67525249, 0.07412004, 0.02111621, 0.79964152]])"
      ]
     },
     "execution_count": 16,
     "metadata": {},
     "output_type": "execute_result"
    }
   ],
   "source": [
    "b = np.random.random(16).reshape(4, 4)\n",
    "b"
   ]
  },
  {
   "cell_type": "code",
   "execution_count": 17,
   "metadata": {},
   "outputs": [
    {
     "data": {
      "text/plain": [
       "array([[ -1.64260396,  17.51839709, -16.55894211,  -3.98625709],\n",
       "       [ -0.36815152,   3.79150535,  -1.62250419,  -1.88159389],\n",
       "       [  0.27597232,   9.29051916,  -9.40246457,  -2.98548822],\n",
       "       [  1.41392399, -15.39008175,  14.38178373,   4.86997729]])"
      ]
     },
     "execution_count": 17,
     "metadata": {},
     "output_type": "execute_result"
    }
   ],
   "source": [
    "import numpy.linalg as la\n",
    "la.inv(b)"
   ]
  },
  {
   "cell_type": "code",
   "execution_count": 18,
   "metadata": {},
   "outputs": [],
   "source": [
    "(eigenvalues, eigenvector) = la.eig(b)"
   ]
  },
  {
   "cell_type": "code",
   "execution_count": 19,
   "metadata": {},
   "outputs": [
    {
     "data": {
      "text/plain": [
       "array([ 1.73655879+0.j        ,  0.22304299+0.j        ,\n",
       "       -0.19561331+0.11957977j, -0.19561331-0.11957977j])"
      ]
     },
     "execution_count": 19,
     "metadata": {},
     "output_type": "execute_result"
    }
   ],
   "source": [
    "eigenvalues"
   ]
  },
  {
   "cell_type": "code",
   "execution_count": 20,
   "metadata": {},
   "outputs": [
    {
     "data": {
      "text/plain": [
       "array([[-0.59161074+0.j        , -0.47537364+0.j        ,\n",
       "        -0.80329566+0.j        , -0.80329566-0.j        ],\n",
       "       [-0.53389142+0.j        , -0.43494278+0.j        ,\n",
       "         0.0466474 -0.031134j  ,  0.0466474 +0.031134j  ],\n",
       "       [-0.37074286+0.j        , -0.43559469+0.j        ,\n",
       "        -0.18075419-0.16020501j, -0.18075419+0.16020501j],\n",
       "       [-0.47697634+0.j        ,  0.62857135+0.j        ,\n",
       "         0.53693643+0.07023057j,  0.53693643-0.07023057j]])"
      ]
     },
     "execution_count": 20,
     "metadata": {},
     "output_type": "execute_result"
    }
   ],
   "source": [
    "eigenvector"
   ]
  },
  {
   "cell_type": "markdown",
   "metadata": {},
   "source": [
    "## Pandas"
   ]
  },
  {
   "cell_type": "code",
   "execution_count": 21,
   "metadata": {},
   "outputs": [],
   "source": [
    "import pandas as pd"
   ]
  },
  {
   "cell_type": "code",
   "execution_count": 100,
   "metadata": {},
   "outputs": [],
   "source": [
    "dic = { \"Coluna 1\": [\"v1\", \"v2\", \"v3\", \"v4\"],\n",
    "        \"Coluna 2\": [\"v1c2\", \"v2c2\", \"v3c2\", \"v4c2\"] }\n",
    "df_dic = pd.DataFrame(dic, index=[\"primeira\", \"segunda\", \"terceira\", \"quarta\"])"
   ]
  },
  {
   "cell_type": "code",
   "execution_count": 101,
   "metadata": {},
   "outputs": [
    {
     "data": {
      "text/html": [
       "<div>\n",
       "<style scoped>\n",
       "    .dataframe tbody tr th:only-of-type {\n",
       "        vertical-align: middle;\n",
       "    }\n",
       "\n",
       "    .dataframe tbody tr th {\n",
       "        vertical-align: top;\n",
       "    }\n",
       "\n",
       "    .dataframe thead th {\n",
       "        text-align: right;\n",
       "    }\n",
       "</style>\n",
       "<table border=\"1\" class=\"dataframe\">\n",
       "  <thead>\n",
       "    <tr style=\"text-align: right;\">\n",
       "      <th></th>\n",
       "      <th>Coluna 1</th>\n",
       "      <th>Coluna 2</th>\n",
       "    </tr>\n",
       "  </thead>\n",
       "  <tbody>\n",
       "    <tr>\n",
       "      <th>primeira</th>\n",
       "      <td>v1</td>\n",
       "      <td>v1c2</td>\n",
       "    </tr>\n",
       "    <tr>\n",
       "      <th>segunda</th>\n",
       "      <td>v2</td>\n",
       "      <td>v2c2</td>\n",
       "    </tr>\n",
       "    <tr>\n",
       "      <th>terceira</th>\n",
       "      <td>v3</td>\n",
       "      <td>v3c2</td>\n",
       "    </tr>\n",
       "    <tr>\n",
       "      <th>quarta</th>\n",
       "      <td>v4</td>\n",
       "      <td>v4c2</td>\n",
       "    </tr>\n",
       "  </tbody>\n",
       "</table>\n",
       "</div>"
      ],
      "text/plain": [
       "         Coluna 1 Coluna 2\n",
       "primeira       v1     v1c2\n",
       "segunda        v2     v2c2\n",
       "terceira       v3     v3c2\n",
       "quarta         v4     v4c2"
      ]
     },
     "execution_count": 101,
     "metadata": {},
     "output_type": "execute_result"
    }
   ],
   "source": [
    "df_dic"
   ]
  },
  {
   "cell_type": "code",
   "execution_count": 105,
   "metadata": {},
   "outputs": [],
   "source": [
    "lista = [[\"v1\", \"v1c2\"],\n",
    "         [\"v2\", \"v2c2\"],\n",
    "         [\"v3\", \"v3c2\"],\n",
    "         [\"v4\", \"v4c2\"]]"
   ]
  },
  {
   "cell_type": "code",
   "execution_count": 106,
   "metadata": {},
   "outputs": [
    {
     "data": {
      "text/html": [
       "<div>\n",
       "<style scoped>\n",
       "    .dataframe tbody tr th:only-of-type {\n",
       "        vertical-align: middle;\n",
       "    }\n",
       "\n",
       "    .dataframe tbody tr th {\n",
       "        vertical-align: top;\n",
       "    }\n",
       "\n",
       "    .dataframe thead th {\n",
       "        text-align: right;\n",
       "    }\n",
       "</style>\n",
       "<table border=\"1\" class=\"dataframe\">\n",
       "  <thead>\n",
       "    <tr style=\"text-align: right;\">\n",
       "      <th></th>\n",
       "      <th>0</th>\n",
       "      <th>1</th>\n",
       "    </tr>\n",
       "  </thead>\n",
       "  <tbody>\n",
       "    <tr>\n",
       "      <th>primeira</th>\n",
       "      <td>v1</td>\n",
       "      <td>v1c2</td>\n",
       "    </tr>\n",
       "    <tr>\n",
       "      <th>segunda</th>\n",
       "      <td>v2</td>\n",
       "      <td>v2c2</td>\n",
       "    </tr>\n",
       "    <tr>\n",
       "      <th>terceira</th>\n",
       "      <td>v3</td>\n",
       "      <td>v3c2</td>\n",
       "    </tr>\n",
       "    <tr>\n",
       "      <th>quarta</th>\n",
       "      <td>v4</td>\n",
       "      <td>v4c2</td>\n",
       "    </tr>\n",
       "  </tbody>\n",
       "</table>\n",
       "</div>"
      ],
      "text/plain": [
       "           0     1\n",
       "primeira  v1  v1c2\n",
       "segunda   v2  v2c2\n",
       "terceira  v3  v3c2\n",
       "quarta    v4  v4c2"
      ]
     },
     "execution_count": 106,
     "metadata": {},
     "output_type": "execute_result"
    }
   ],
   "source": [
    "df_lista = pd.DataFrame(lista,\n",
    "                        index=[\"primeira\", \"segunda\", \"terceira\", \"quarta\"])\n",
    "df_lista"
   ]
  },
  {
   "cell_type": "code",
   "execution_count": 107,
   "metadata": {},
   "outputs": [],
   "source": [
    "df_lista.columns = [\"Coluna 1\", \"Coluna 2\"]"
   ]
  },
  {
   "cell_type": "code",
   "execution_count": 108,
   "metadata": {},
   "outputs": [
    {
     "data": {
      "text/html": [
       "<div>\n",
       "<style scoped>\n",
       "    .dataframe tbody tr th:only-of-type {\n",
       "        vertical-align: middle;\n",
       "    }\n",
       "\n",
       "    .dataframe tbody tr th {\n",
       "        vertical-align: top;\n",
       "    }\n",
       "\n",
       "    .dataframe thead th {\n",
       "        text-align: right;\n",
       "    }\n",
       "</style>\n",
       "<table border=\"1\" class=\"dataframe\">\n",
       "  <thead>\n",
       "    <tr style=\"text-align: right;\">\n",
       "      <th></th>\n",
       "      <th>Coluna 1</th>\n",
       "      <th>Coluna 2</th>\n",
       "    </tr>\n",
       "  </thead>\n",
       "  <tbody>\n",
       "    <tr>\n",
       "      <th>primeira</th>\n",
       "      <td>v1</td>\n",
       "      <td>v1c2</td>\n",
       "    </tr>\n",
       "    <tr>\n",
       "      <th>segunda</th>\n",
       "      <td>v2</td>\n",
       "      <td>v2c2</td>\n",
       "    </tr>\n",
       "    <tr>\n",
       "      <th>terceira</th>\n",
       "      <td>v3</td>\n",
       "      <td>v3c2</td>\n",
       "    </tr>\n",
       "    <tr>\n",
       "      <th>quarta</th>\n",
       "      <td>v4</td>\n",
       "      <td>v4c2</td>\n",
       "    </tr>\n",
       "  </tbody>\n",
       "</table>\n",
       "</div>"
      ],
      "text/plain": [
       "         Coluna 1 Coluna 2\n",
       "primeira       v1     v1c2\n",
       "segunda        v2     v2c2\n",
       "terceira       v3     v3c2\n",
       "quarta         v4     v4c2"
      ]
     },
     "execution_count": 108,
     "metadata": {},
     "output_type": "execute_result"
    }
   ],
   "source": [
    "df_lista"
   ]
  },
  {
   "cell_type": "code",
   "execution_count": 119,
   "metadata": {},
   "outputs": [
    {
     "data": {
      "text/plain": [
       "array([[ 1,  2,  3,  4,  5],\n",
       "       [ 6,  7,  8,  9, 10],\n",
       "       [11, 12, 13, 14, 15],\n",
       "       [16, 17, 18, 19, 20],\n",
       "       [21, 22, 23, 24, 25]])"
      ]
     },
     "execution_count": 119,
     "metadata": {},
     "output_type": "execute_result"
    }
   ],
   "source": [
    "a = np.arange(1, 26).reshape(5, -1)\n",
    "a"
   ]
  },
  {
   "cell_type": "code",
   "execution_count": 120,
   "metadata": {},
   "outputs": [],
   "source": [
    "df_array = pd.DataFrame(a,\n",
    "                        index=range(1, 6),\n",
    "                        columns=list(\"ABCDE\"))"
   ]
  },
  {
   "cell_type": "code",
   "execution_count": 121,
   "metadata": {},
   "outputs": [
    {
     "data": {
      "text/html": [
       "<div>\n",
       "<style scoped>\n",
       "    .dataframe tbody tr th:only-of-type {\n",
       "        vertical-align: middle;\n",
       "    }\n",
       "\n",
       "    .dataframe tbody tr th {\n",
       "        vertical-align: top;\n",
       "    }\n",
       "\n",
       "    .dataframe thead th {\n",
       "        text-align: right;\n",
       "    }\n",
       "</style>\n",
       "<table border=\"1\" class=\"dataframe\">\n",
       "  <thead>\n",
       "    <tr style=\"text-align: right;\">\n",
       "      <th></th>\n",
       "      <th>A</th>\n",
       "      <th>B</th>\n",
       "      <th>C</th>\n",
       "      <th>D</th>\n",
       "      <th>E</th>\n",
       "    </tr>\n",
       "  </thead>\n",
       "  <tbody>\n",
       "    <tr>\n",
       "      <th>1</th>\n",
       "      <td>1</td>\n",
       "      <td>2</td>\n",
       "      <td>3</td>\n",
       "      <td>4</td>\n",
       "      <td>5</td>\n",
       "    </tr>\n",
       "    <tr>\n",
       "      <th>2</th>\n",
       "      <td>6</td>\n",
       "      <td>7</td>\n",
       "      <td>8</td>\n",
       "      <td>9</td>\n",
       "      <td>10</td>\n",
       "    </tr>\n",
       "    <tr>\n",
       "      <th>3</th>\n",
       "      <td>11</td>\n",
       "      <td>12</td>\n",
       "      <td>13</td>\n",
       "      <td>14</td>\n",
       "      <td>15</td>\n",
       "    </tr>\n",
       "    <tr>\n",
       "      <th>4</th>\n",
       "      <td>16</td>\n",
       "      <td>17</td>\n",
       "      <td>18</td>\n",
       "      <td>19</td>\n",
       "      <td>20</td>\n",
       "    </tr>\n",
       "    <tr>\n",
       "      <th>5</th>\n",
       "      <td>21</td>\n",
       "      <td>22</td>\n",
       "      <td>23</td>\n",
       "      <td>24</td>\n",
       "      <td>25</td>\n",
       "    </tr>\n",
       "  </tbody>\n",
       "</table>\n",
       "</div>"
      ],
      "text/plain": [
       "    A   B   C   D   E\n",
       "1   1   2   3   4   5\n",
       "2   6   7   8   9  10\n",
       "3  11  12  13  14  15\n",
       "4  16  17  18  19  20\n",
       "5  21  22  23  24  25"
      ]
     },
     "execution_count": 121,
     "metadata": {},
     "output_type": "execute_result"
    }
   ],
   "source": [
    "df_array"
   ]
  },
  {
   "cell_type": "code",
   "execution_count": 122,
   "metadata": {},
   "outputs": [
    {
     "data": {
      "text/html": [
       "<div>\n",
       "<style scoped>\n",
       "    .dataframe tbody tr th:only-of-type {\n",
       "        vertical-align: middle;\n",
       "    }\n",
       "\n",
       "    .dataframe tbody tr th {\n",
       "        vertical-align: top;\n",
       "    }\n",
       "\n",
       "    .dataframe thead th {\n",
       "        text-align: right;\n",
       "    }\n",
       "</style>\n",
       "<table border=\"1\" class=\"dataframe\">\n",
       "  <thead>\n",
       "    <tr style=\"text-align: right;\">\n",
       "      <th></th>\n",
       "      <th>C1</th>\n",
       "      <th>C2</th>\n",
       "      <th>C3</th>\n",
       "      <th>C4</th>\n",
       "      <th>C5</th>\n",
       "    </tr>\n",
       "  </thead>\n",
       "  <tbody>\n",
       "    <tr>\n",
       "      <th>L1</th>\n",
       "      <td>1</td>\n",
       "      <td>2</td>\n",
       "      <td>3</td>\n",
       "      <td>4</td>\n",
       "      <td>5</td>\n",
       "    </tr>\n",
       "    <tr>\n",
       "      <th>L2</th>\n",
       "      <td>6</td>\n",
       "      <td>7</td>\n",
       "      <td>8</td>\n",
       "      <td>9</td>\n",
       "      <td>10</td>\n",
       "    </tr>\n",
       "    <tr>\n",
       "      <th>L3</th>\n",
       "      <td>11</td>\n",
       "      <td>12</td>\n",
       "      <td>13</td>\n",
       "      <td>14</td>\n",
       "      <td>15</td>\n",
       "    </tr>\n",
       "    <tr>\n",
       "      <th>L4</th>\n",
       "      <td>16</td>\n",
       "      <td>17</td>\n",
       "      <td>18</td>\n",
       "      <td>19</td>\n",
       "      <td>20</td>\n",
       "    </tr>\n",
       "    <tr>\n",
       "      <th>L5</th>\n",
       "      <td>21</td>\n",
       "      <td>22</td>\n",
       "      <td>23</td>\n",
       "      <td>24</td>\n",
       "      <td>25</td>\n",
       "    </tr>\n",
       "  </tbody>\n",
       "</table>\n",
       "</div>"
      ],
      "text/plain": [
       "    C1  C2  C3  C4  C5\n",
       "L1   1   2   3   4   5\n",
       "L2   6   7   8   9  10\n",
       "L3  11  12  13  14  15\n",
       "L4  16  17  18  19  20\n",
       "L5  21  22  23  24  25"
      ]
     },
     "execution_count": 122,
     "metadata": {},
     "output_type": "execute_result"
    }
   ],
   "source": [
    "df = pd.DataFrame(np.arange(1, 26).reshape(5, -1),\n",
    "                  index=[\"L1\", \"L2\", \"L3\", \"L4\", \"L5\"],\n",
    "                  columns=[\"C1\", \"C2\", \"C3\", \"C4\", \"C5\"])\n",
    "df"
   ]
  },
  {
   "cell_type": "code",
   "execution_count": 123,
   "metadata": {},
   "outputs": [
    {
     "data": {
      "text/plain": [
       "L1     3\n",
       "L2     8\n",
       "L3    13\n",
       "L4    18\n",
       "L5    23\n",
       "Name: C3, dtype: int64"
      ]
     },
     "execution_count": 123,
     "metadata": {},
     "output_type": "execute_result"
    }
   ],
   "source": [
    "df[\"C3\"]"
   ]
  },
  {
   "cell_type": "code",
   "execution_count": 135,
   "metadata": {
    "scrolled": true
   },
   "outputs": [
    {
     "data": {
      "text/html": [
       "<div>\n",
       "<style scoped>\n",
       "    .dataframe tbody tr th:only-of-type {\n",
       "        vertical-align: middle;\n",
       "    }\n",
       "\n",
       "    .dataframe tbody tr th {\n",
       "        vertical-align: top;\n",
       "    }\n",
       "\n",
       "    .dataframe thead th {\n",
       "        text-align: right;\n",
       "    }\n",
       "</style>\n",
       "<table border=\"1\" class=\"dataframe\">\n",
       "  <thead>\n",
       "    <tr style=\"text-align: right;\">\n",
       "      <th></th>\n",
       "      <th>C1</th>\n",
       "      <th>C2</th>\n",
       "      <th>C3</th>\n",
       "      <th>C4</th>\n",
       "      <th>C5</th>\n",
       "    </tr>\n",
       "  </thead>\n",
       "  <tbody>\n",
       "    <tr>\n",
       "      <th>L3</th>\n",
       "      <td>11</td>\n",
       "      <td>12</td>\n",
       "      <td>13</td>\n",
       "      <td>14</td>\n",
       "      <td>15</td>\n",
       "    </tr>\n",
       "    <tr>\n",
       "      <th>L4</th>\n",
       "      <td>16</td>\n",
       "      <td>17</td>\n",
       "      <td>18</td>\n",
       "      <td>19</td>\n",
       "      <td>20</td>\n",
       "    </tr>\n",
       "  </tbody>\n",
       "</table>\n",
       "</div>"
      ],
      "text/plain": [
       "    C1  C2  C3  C4  C5\n",
       "L3  11  12  13  14  15\n",
       "L4  16  17  18  19  20"
      ]
     },
     "execution_count": 135,
     "metadata": {},
     "output_type": "execute_result"
    }
   ],
   "source": [
    "df[2:4]"
   ]
  },
  {
   "cell_type": "code",
   "execution_count": null,
   "metadata": {},
   "outputs": [],
   "source": [
    "df.iloc[]"
   ]
  },
  {
   "cell_type": "code",
   "execution_count": 22,
   "metadata": {},
   "outputs": [],
   "source": [
    "cervejas = pd.DataFrame([[\"Vedett\", \"IPA\", \"Bélgica\", 0.33, 5.5],\n",
    "                         [\"Eisenbahn\", \"Strong Golden Ale\", \"Brasil\", 0.355, 8.0],\n",
    "                         [\"Belhaven\", \"Rich Scottish Ale\", \"Escócia\", 0.33, 7.4],\n",
    "                         [\"Robinsons\", \"Premium Britisch Beer\", \"Inglaterra\", 0.5, 4.7],\n",
    "                         [\"Brewdog\", \"IPA\", \"Escócia\", 0.33, 5.6],\n",
    "                         [\"Fuller's\", \"Superior Strong Ale\", \"Inglaterra\", 0.5, 8.5],\n",
    "                         [\"Goose\", \"Session IPA\", \"Brasil\", 0.355, 4.1]],\n",
    "                        index=[\"Vedett IPA\", \"Eisenbahn\", \"90 Wee Heavy\", \"Trooper\", \"Punk IPA\", \"Golden Pride\", \"Midway\"],\n",
    "                        columns=[\"Fabricante\", \"Tipo\", \"País\", \"Volume\", \"Graduação Alcoólica\"])"
   ]
  },
  {
   "cell_type": "code",
   "execution_count": 23,
   "metadata": {},
   "outputs": [
    {
     "data": {
      "text/html": [
       "<div>\n",
       "<style scoped>\n",
       "    .dataframe tbody tr th:only-of-type {\n",
       "        vertical-align: middle;\n",
       "    }\n",
       "\n",
       "    .dataframe tbody tr th {\n",
       "        vertical-align: top;\n",
       "    }\n",
       "\n",
       "    .dataframe thead th {\n",
       "        text-align: right;\n",
       "    }\n",
       "</style>\n",
       "<table border=\"1\" class=\"dataframe\">\n",
       "  <thead>\n",
       "    <tr style=\"text-align: right;\">\n",
       "      <th></th>\n",
       "      <th>Fabricante</th>\n",
       "      <th>Tipo</th>\n",
       "      <th>País</th>\n",
       "      <th>Volume</th>\n",
       "      <th>Graduação Alcoólica</th>\n",
       "    </tr>\n",
       "  </thead>\n",
       "  <tbody>\n",
       "    <tr>\n",
       "      <th>Vedett IPA</th>\n",
       "      <td>Vedett</td>\n",
       "      <td>IPA</td>\n",
       "      <td>Bélgica</td>\n",
       "      <td>0.330</td>\n",
       "      <td>5.5</td>\n",
       "    </tr>\n",
       "    <tr>\n",
       "      <th>Eisenbahn</th>\n",
       "      <td>Eisenbahn</td>\n",
       "      <td>Strong Golden Ale</td>\n",
       "      <td>Brasil</td>\n",
       "      <td>0.355</td>\n",
       "      <td>8.0</td>\n",
       "    </tr>\n",
       "    <tr>\n",
       "      <th>90 Wee Heavy</th>\n",
       "      <td>Belhaven</td>\n",
       "      <td>Rich Scottish Ale</td>\n",
       "      <td>Escócia</td>\n",
       "      <td>0.330</td>\n",
       "      <td>7.4</td>\n",
       "    </tr>\n",
       "    <tr>\n",
       "      <th>Trooper</th>\n",
       "      <td>Robinsons</td>\n",
       "      <td>Premium Britisch Beer</td>\n",
       "      <td>Inglaterra</td>\n",
       "      <td>0.500</td>\n",
       "      <td>4.7</td>\n",
       "    </tr>\n",
       "    <tr>\n",
       "      <th>Punk IPA</th>\n",
       "      <td>Brewdog</td>\n",
       "      <td>IPA</td>\n",
       "      <td>Escócia</td>\n",
       "      <td>0.330</td>\n",
       "      <td>5.6</td>\n",
       "    </tr>\n",
       "    <tr>\n",
       "      <th>Golden Pride</th>\n",
       "      <td>Fuller's</td>\n",
       "      <td>Superior Strong Ale</td>\n",
       "      <td>Inglaterra</td>\n",
       "      <td>0.500</td>\n",
       "      <td>8.5</td>\n",
       "    </tr>\n",
       "    <tr>\n",
       "      <th>Midway</th>\n",
       "      <td>Goose</td>\n",
       "      <td>Session IPA</td>\n",
       "      <td>Brasil</td>\n",
       "      <td>0.355</td>\n",
       "      <td>4.1</td>\n",
       "    </tr>\n",
       "  </tbody>\n",
       "</table>\n",
       "</div>"
      ],
      "text/plain": [
       "             Fabricante                   Tipo        País  Volume  \\\n",
       "Vedett IPA       Vedett                    IPA     Bélgica   0.330   \n",
       "Eisenbahn     Eisenbahn      Strong Golden Ale      Brasil   0.355   \n",
       "90 Wee Heavy   Belhaven      Rich Scottish Ale     Escócia   0.330   \n",
       "Trooper       Robinsons  Premium Britisch Beer  Inglaterra   0.500   \n",
       "Punk IPA        Brewdog                    IPA     Escócia   0.330   \n",
       "Golden Pride   Fuller's    Superior Strong Ale  Inglaterra   0.500   \n",
       "Midway            Goose            Session IPA      Brasil   0.355   \n",
       "\n",
       "              Graduação Alcoólica  \n",
       "Vedett IPA                    5.5  \n",
       "Eisenbahn                     8.0  \n",
       "90 Wee Heavy                  7.4  \n",
       "Trooper                       4.7  \n",
       "Punk IPA                      5.6  \n",
       "Golden Pride                  8.5  \n",
       "Midway                        4.1  "
      ]
     },
     "execution_count": 23,
     "metadata": {},
     "output_type": "execute_result"
    }
   ],
   "source": [
    "cervejas"
   ]
  },
  {
   "cell_type": "code",
   "execution_count": 24,
   "metadata": {},
   "outputs": [
    {
     "data": {
      "text/plain": [
       "Vedett IPA      2.0\n",
       "Eisenbahn       4.5\n",
       "90 Wee Heavy    2.0\n",
       "Trooper         6.5\n",
       "Punk IPA        2.0\n",
       "Golden Pride    6.5\n",
       "Midway          4.5\n",
       "Name: Volume, dtype: float64"
      ]
     },
     "execution_count": 24,
     "metadata": {},
     "output_type": "execute_result"
    }
   ],
   "source": [
    "cervejas['Volume'].rank()"
   ]
  },
  {
   "cell_type": "code",
   "execution_count": 25,
   "metadata": {},
   "outputs": [
    {
     "data": {
      "text/html": [
       "<div>\n",
       "<style scoped>\n",
       "    .dataframe tbody tr th:only-of-type {\n",
       "        vertical-align: middle;\n",
       "    }\n",
       "\n",
       "    .dataframe tbody tr th {\n",
       "        vertical-align: top;\n",
       "    }\n",
       "\n",
       "    .dataframe thead th {\n",
       "        text-align: right;\n",
       "    }\n",
       "</style>\n",
       "<table border=\"1\" class=\"dataframe\">\n",
       "  <thead>\n",
       "    <tr style=\"text-align: right;\">\n",
       "      <th></th>\n",
       "      <th>Fabricante</th>\n",
       "      <th>Tipo</th>\n",
       "      <th>País</th>\n",
       "      <th>Volume</th>\n",
       "      <th>Graduação Alcoólica</th>\n",
       "    </tr>\n",
       "  </thead>\n",
       "  <tbody>\n",
       "    <tr>\n",
       "      <th>Vedett IPA</th>\n",
       "      <td>Vedett</td>\n",
       "      <td>IPA</td>\n",
       "      <td>Bélgica</td>\n",
       "      <td>0.330</td>\n",
       "      <td>5.5</td>\n",
       "    </tr>\n",
       "    <tr>\n",
       "      <th>90 Wee Heavy</th>\n",
       "      <td>Belhaven</td>\n",
       "      <td>Rich Scottish Ale</td>\n",
       "      <td>Escócia</td>\n",
       "      <td>0.330</td>\n",
       "      <td>7.4</td>\n",
       "    </tr>\n",
       "    <tr>\n",
       "      <th>Punk IPA</th>\n",
       "      <td>Brewdog</td>\n",
       "      <td>IPA</td>\n",
       "      <td>Escócia</td>\n",
       "      <td>0.330</td>\n",
       "      <td>5.6</td>\n",
       "    </tr>\n",
       "    <tr>\n",
       "      <th>Eisenbahn</th>\n",
       "      <td>Eisenbahn</td>\n",
       "      <td>Strong Golden Ale</td>\n",
       "      <td>Brasil</td>\n",
       "      <td>0.355</td>\n",
       "      <td>8.0</td>\n",
       "    </tr>\n",
       "    <tr>\n",
       "      <th>Midway</th>\n",
       "      <td>Goose</td>\n",
       "      <td>Session IPA</td>\n",
       "      <td>Brasil</td>\n",
       "      <td>0.355</td>\n",
       "      <td>4.1</td>\n",
       "    </tr>\n",
       "    <tr>\n",
       "      <th>Trooper</th>\n",
       "      <td>Robinsons</td>\n",
       "      <td>Premium Britisch Beer</td>\n",
       "      <td>Inglaterra</td>\n",
       "      <td>0.500</td>\n",
       "      <td>4.7</td>\n",
       "    </tr>\n",
       "    <tr>\n",
       "      <th>Golden Pride</th>\n",
       "      <td>Fuller's</td>\n",
       "      <td>Superior Strong Ale</td>\n",
       "      <td>Inglaterra</td>\n",
       "      <td>0.500</td>\n",
       "      <td>8.5</td>\n",
       "    </tr>\n",
       "  </tbody>\n",
       "</table>\n",
       "</div>"
      ],
      "text/plain": [
       "             Fabricante                   Tipo        País  Volume  \\\n",
       "Vedett IPA       Vedett                    IPA     Bélgica   0.330   \n",
       "90 Wee Heavy   Belhaven      Rich Scottish Ale     Escócia   0.330   \n",
       "Punk IPA        Brewdog                    IPA     Escócia   0.330   \n",
       "Eisenbahn     Eisenbahn      Strong Golden Ale      Brasil   0.355   \n",
       "Midway            Goose            Session IPA      Brasil   0.355   \n",
       "Trooper       Robinsons  Premium Britisch Beer  Inglaterra   0.500   \n",
       "Golden Pride   Fuller's    Superior Strong Ale  Inglaterra   0.500   \n",
       "\n",
       "              Graduação Alcoólica  \n",
       "Vedett IPA                    5.5  \n",
       "90 Wee Heavy                  7.4  \n",
       "Punk IPA                      5.6  \n",
       "Eisenbahn                     8.0  \n",
       "Midway                        4.1  \n",
       "Trooper                       4.7  \n",
       "Golden Pride                  8.5  "
      ]
     },
     "execution_count": 25,
     "metadata": {},
     "output_type": "execute_result"
    }
   ],
   "source": [
    "cervejas.sort_values(['Volume'])"
   ]
  },
  {
   "cell_type": "code",
   "execution_count": 26,
   "metadata": {},
   "outputs": [
    {
     "data": {
      "text/plain": [
       "8.5"
      ]
     },
     "execution_count": 26,
     "metadata": {},
     "output_type": "execute_result"
    }
   ],
   "source": [
    "cervejas['Graduação Alcoólica'].max()"
   ]
  },
  {
   "cell_type": "code",
   "execution_count": 27,
   "metadata": {},
   "outputs": [
    {
     "data": {
      "text/plain": [
       "'Golden Pride'"
      ]
     },
     "execution_count": 27,
     "metadata": {},
     "output_type": "execute_result"
    }
   ],
   "source": [
    "cervejas['Graduação Alcoólica'].idxmax()"
   ]
  },
  {
   "cell_type": "code",
   "execution_count": 28,
   "metadata": {},
   "outputs": [
    {
     "data": {
      "text/plain": [
       "'Midway'"
      ]
     },
     "execution_count": 28,
     "metadata": {},
     "output_type": "execute_result"
    }
   ],
   "source": [
    "cervejas['Graduação Alcoólica'].idxmin()"
   ]
  },
  {
   "cell_type": "code",
   "execution_count": 29,
   "metadata": {},
   "outputs": [
    {
     "data": {
      "text/html": [
       "<div>\n",
       "<style scoped>\n",
       "    .dataframe tbody tr th:only-of-type {\n",
       "        vertical-align: middle;\n",
       "    }\n",
       "\n",
       "    .dataframe tbody tr th {\n",
       "        vertical-align: top;\n",
       "    }\n",
       "\n",
       "    .dataframe thead th {\n",
       "        text-align: right;\n",
       "    }\n",
       "</style>\n",
       "<table border=\"1\" class=\"dataframe\">\n",
       "  <thead>\n",
       "    <tr style=\"text-align: right;\">\n",
       "      <th></th>\n",
       "      <th>Fabricante</th>\n",
       "      <th>Tipo</th>\n",
       "      <th>País</th>\n",
       "      <th>Volume</th>\n",
       "      <th>Graduação Alcoólica</th>\n",
       "    </tr>\n",
       "  </thead>\n",
       "  <tbody>\n",
       "    <tr>\n",
       "      <th>90 Wee Heavy</th>\n",
       "      <td>Belhaven</td>\n",
       "      <td>Rich Scottish Ale</td>\n",
       "      <td>Escócia</td>\n",
       "      <td>0.33</td>\n",
       "      <td>7.4</td>\n",
       "    </tr>\n",
       "    <tr>\n",
       "      <th>Punk IPA</th>\n",
       "      <td>Brewdog</td>\n",
       "      <td>IPA</td>\n",
       "      <td>Escócia</td>\n",
       "      <td>0.33</td>\n",
       "      <td>5.6</td>\n",
       "    </tr>\n",
       "    <tr>\n",
       "      <th>Golden Pride</th>\n",
       "      <td>Fuller's</td>\n",
       "      <td>Superior Strong Ale</td>\n",
       "      <td>Inglaterra</td>\n",
       "      <td>0.50</td>\n",
       "      <td>8.5</td>\n",
       "    </tr>\n",
       "  </tbody>\n",
       "</table>\n",
       "</div>"
      ],
      "text/plain": [
       "             Fabricante                 Tipo        País  Volume  \\\n",
       "90 Wee Heavy   Belhaven    Rich Scottish Ale     Escócia    0.33   \n",
       "Punk IPA        Brewdog                  IPA     Escócia    0.33   \n",
       "Golden Pride   Fuller's  Superior Strong Ale  Inglaterra    0.50   \n",
       "\n",
       "              Graduação Alcoólica  \n",
       "90 Wee Heavy                  7.4  \n",
       "Punk IPA                      5.6  \n",
       "Golden Pride                  8.5  "
      ]
     },
     "execution_count": 29,
     "metadata": {},
     "output_type": "execute_result"
    }
   ],
   "source": [
    "cervejas.take([2, 4, -2])"
   ]
  },
  {
   "cell_type": "code",
   "execution_count": 30,
   "metadata": {},
   "outputs": [
    {
     "data": {
      "text/html": [
       "<div>\n",
       "<style scoped>\n",
       "    .dataframe tbody tr th:only-of-type {\n",
       "        vertical-align: middle;\n",
       "    }\n",
       "\n",
       "    .dataframe tbody tr th {\n",
       "        vertical-align: top;\n",
       "    }\n",
       "\n",
       "    .dataframe thead th {\n",
       "        text-align: right;\n",
       "    }\n",
       "</style>\n",
       "<table border=\"1\" class=\"dataframe\">\n",
       "  <thead>\n",
       "    <tr style=\"text-align: right;\">\n",
       "      <th></th>\n",
       "      <th>Fabricante</th>\n",
       "      <th>Tipo</th>\n",
       "      <th>País</th>\n",
       "      <th>Volume</th>\n",
       "      <th>Graduação Alcoólica</th>\n",
       "    </tr>\n",
       "  </thead>\n",
       "  <tbody>\n",
       "    <tr>\n",
       "      <th>90 Wee Heavy</th>\n",
       "      <td>Belhaven</td>\n",
       "      <td>Rich Scottish Ale</td>\n",
       "      <td>Escócia</td>\n",
       "      <td>0.33</td>\n",
       "      <td>7.4</td>\n",
       "    </tr>\n",
       "    <tr>\n",
       "      <th>Punk IPA</th>\n",
       "      <td>Brewdog</td>\n",
       "      <td>IPA</td>\n",
       "      <td>Escócia</td>\n",
       "      <td>0.33</td>\n",
       "      <td>5.6</td>\n",
       "    </tr>\n",
       "    <tr>\n",
       "      <th>Golden Pride</th>\n",
       "      <td>Fuller's</td>\n",
       "      <td>Superior Strong Ale</td>\n",
       "      <td>Inglaterra</td>\n",
       "      <td>0.50</td>\n",
       "      <td>8.5</td>\n",
       "    </tr>\n",
       "  </tbody>\n",
       "</table>\n",
       "</div>"
      ],
      "text/plain": [
       "             Fabricante                 Tipo        País  Volume  \\\n",
       "90 Wee Heavy   Belhaven    Rich Scottish Ale     Escócia    0.33   \n",
       "Punk IPA        Brewdog                  IPA     Escócia    0.33   \n",
       "Golden Pride   Fuller's  Superior Strong Ale  Inglaterra    0.50   \n",
       "\n",
       "              Graduação Alcoólica  \n",
       "90 Wee Heavy                  7.4  \n",
       "Punk IPA                      5.6  \n",
       "Golden Pride                  8.5  "
      ]
     },
     "execution_count": 30,
     "metadata": {},
     "output_type": "execute_result"
    }
   ],
   "source": [
    "cervejas.iloc[[2, 4, -2]]"
   ]
  },
  {
   "cell_type": "code",
   "execution_count": 31,
   "metadata": {},
   "outputs": [
    {
     "data": {
      "text/html": [
       "<div>\n",
       "<style scoped>\n",
       "    .dataframe tbody tr th:only-of-type {\n",
       "        vertical-align: middle;\n",
       "    }\n",
       "\n",
       "    .dataframe tbody tr th {\n",
       "        vertical-align: top;\n",
       "    }\n",
       "\n",
       "    .dataframe thead th {\n",
       "        text-align: right;\n",
       "    }\n",
       "</style>\n",
       "<table border=\"1\" class=\"dataframe\">\n",
       "  <thead>\n",
       "    <tr style=\"text-align: right;\">\n",
       "      <th></th>\n",
       "      <th>Fabricante</th>\n",
       "      <th>Tipo</th>\n",
       "      <th>País</th>\n",
       "      <th>Volume</th>\n",
       "      <th>Graduação Alcoólica</th>\n",
       "    </tr>\n",
       "  </thead>\n",
       "  <tbody>\n",
       "    <tr>\n",
       "      <th>Vedett IPA</th>\n",
       "      <td>Vedett</td>\n",
       "      <td>IPA</td>\n",
       "      <td>Bélgica</td>\n",
       "      <td>0.330</td>\n",
       "      <td>5.5</td>\n",
       "    </tr>\n",
       "    <tr>\n",
       "      <th>Eisenbahn</th>\n",
       "      <td>Eisenbahn</td>\n",
       "      <td>Strong Golden Ale</td>\n",
       "      <td>Brasil</td>\n",
       "      <td>0.355</td>\n",
       "      <td>8.0</td>\n",
       "    </tr>\n",
       "    <tr>\n",
       "      <th>90 Wee Heavy</th>\n",
       "      <td>Belhaven</td>\n",
       "      <td>Rich Scottish Ale</td>\n",
       "      <td>Escócia</td>\n",
       "      <td>0.330</td>\n",
       "      <td>7.4</td>\n",
       "    </tr>\n",
       "    <tr>\n",
       "      <th>Trooper</th>\n",
       "      <td>Robinsons</td>\n",
       "      <td>Premium Britisch Beer</td>\n",
       "      <td>Inglaterra</td>\n",
       "      <td>0.500</td>\n",
       "      <td>4.7</td>\n",
       "    </tr>\n",
       "    <tr>\n",
       "      <th>Punk IPA</th>\n",
       "      <td>Brewdog</td>\n",
       "      <td>IPA</td>\n",
       "      <td>Escócia</td>\n",
       "      <td>0.330</td>\n",
       "      <td>5.6</td>\n",
       "    </tr>\n",
       "    <tr>\n",
       "      <th>Golden Pride</th>\n",
       "      <td>Fuller's</td>\n",
       "      <td>Superior Strong Ale</td>\n",
       "      <td>Inglaterra</td>\n",
       "      <td>0.500</td>\n",
       "      <td>8.5</td>\n",
       "    </tr>\n",
       "    <tr>\n",
       "      <th>Midway</th>\n",
       "      <td>Goose</td>\n",
       "      <td>Session IPA</td>\n",
       "      <td>Brasil</td>\n",
       "      <td>0.355</td>\n",
       "      <td>4.1</td>\n",
       "    </tr>\n",
       "  </tbody>\n",
       "</table>\n",
       "</div>"
      ],
      "text/plain": [
       "             Fabricante                   Tipo        País  Volume  \\\n",
       "Vedett IPA       Vedett                    IPA     Bélgica   0.330   \n",
       "Eisenbahn     Eisenbahn      Strong Golden Ale      Brasil   0.355   \n",
       "90 Wee Heavy   Belhaven      Rich Scottish Ale     Escócia   0.330   \n",
       "Trooper       Robinsons  Premium Britisch Beer  Inglaterra   0.500   \n",
       "Punk IPA        Brewdog                    IPA     Escócia   0.330   \n",
       "Golden Pride   Fuller's    Superior Strong Ale  Inglaterra   0.500   \n",
       "Midway            Goose            Session IPA      Brasil   0.355   \n",
       "\n",
       "              Graduação Alcoólica  \n",
       "Vedett IPA                    5.5  \n",
       "Eisenbahn                     8.0  \n",
       "90 Wee Heavy                  7.4  \n",
       "Trooper                       4.7  \n",
       "Punk IPA                      5.6  \n",
       "Golden Pride                  8.5  \n",
       "Midway                        4.1  "
      ]
     },
     "execution_count": 31,
     "metadata": {},
     "output_type": "execute_result"
    }
   ],
   "source": [
    "cervejas"
   ]
  },
  {
   "cell_type": "code",
   "execution_count": 32,
   "metadata": {},
   "outputs": [
    {
     "data": {
      "text/plain": [
       "'Brasil'"
      ]
     },
     "execution_count": 32,
     "metadata": {},
     "output_type": "execute_result"
    }
   ],
   "source": [
    "cervejas.iat[1, 2]"
   ]
  },
  {
   "cell_type": "code",
   "execution_count": 33,
   "metadata": {},
   "outputs": [
    {
     "data": {
      "text/plain": [
       "8.5"
      ]
     },
     "execution_count": 33,
     "metadata": {},
     "output_type": "execute_result"
    }
   ],
   "source": [
    "cervejas.iat[5, 4]"
   ]
  },
  {
   "cell_type": "code",
   "execution_count": 34,
   "metadata": {},
   "outputs": [
    {
     "data": {
      "text/plain": [
       "'Vedett'"
      ]
     },
     "execution_count": 34,
     "metadata": {},
     "output_type": "execute_result"
    }
   ],
   "source": [
    "cervejas.iat[0, 0]"
   ]
  },
  {
   "cell_type": "code",
   "execution_count": 35,
   "metadata": {},
   "outputs": [
    {
     "data": {
      "text/plain": [
       "0.5"
      ]
     },
     "execution_count": 35,
     "metadata": {},
     "output_type": "execute_result"
    }
   ],
   "source": [
    "cervejas.at['Trooper', 'Volume']"
   ]
  }
 ],
 "metadata": {
  "kernelspec": {
   "display_name": "Python 3",
   "language": "python",
   "name": "python3"
  },
  "language_info": {
   "codemirror_mode": {
    "name": "ipython",
    "version": 3
   },
   "file_extension": ".py",
   "mimetype": "text/x-python",
   "name": "python",
   "nbconvert_exporter": "python",
   "pygments_lexer": "ipython3",
   "version": "3.7.3"
  }
 },
 "nbformat": 4,
 "nbformat_minor": 2
}
