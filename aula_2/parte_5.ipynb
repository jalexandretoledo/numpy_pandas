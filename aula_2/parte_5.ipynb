{
 "cells": [
  {
   "cell_type": "markdown",
   "metadata": {},
   "source": [
    "# NumPy & Pandas"
   ]
  },
  {
   "cell_type": "markdown",
   "metadata": {},
   "source": [
    "## Parte 5"
   ]
  },
  {
   "cell_type": "markdown",
   "metadata": {},
   "source": [
    "Bom, agora que passamos pelo conteúdo planejado para a segunda aula do nosso treinamento, precisamos *expandir nossos horizontes*!\n",
    "\n",
    "Eis alguns materiais adicionais sobre `Pandas` e `NumPy` que me foram muito úteis na preparação deste roteiro e que certamente poderão também ajudá-lo a aprofundar seu entendimento:"
   ]
  },
  {
   "cell_type": "markdown",
   "metadata": {},
   "source": [
    "### DataCamp\n",
    "\n",
    "Os primeiros módulos dos cursos `pandas Foundations` e `Manipulating DataFrames with pandas` são gratuitos e cobrem grande parte do material que vimos nas primeiras partes do nosso material.\n",
    "\n",
    " * https://www.datacamp.com/courses/pandas-foundations\n",
    " * https://www.datacamp.com/courses/manipulating-dataframes-with-pandas\n",
    " \n",
    "Além desses, há outros cursos sobre assuntos que abordaremos na próxima aula. E não deixe de considerar a compra do restante dos cursos!"
   ]
  },
  {
   "cell_type": "markdown",
   "metadata": {},
   "source": [
    "### Kaggle\n",
    "\n",
    "Vocês já conhecem como o material de treinamento deles é interessante! Não deixem de ver também seu curso sobre `Pandas`! O material que cobrimos até aqui está contido nos módulos 1, 2, 3 e 5 (*spoiler alert*: cobriremos os módulos 4 e 6 na próxima aula!)\n",
    "\n",
    " * https://www.kaggle.com/learn/pandas"
   ]
  },
  {
   "cell_type": "markdown",
   "metadata": {},
   "source": [
    "### Documentação do Pandas e do NumPy\n",
    "\n",
    "Depois de alguns anos de experiência com programação, me acostumei com o fato de que documentação de ferramentas não costuma ser grande coisa... Pois bem, a documentação do `Pandas` e do `NumPy` são as exceções que confirmam a regra! Todos os métodos são muito bem explicados, há exemplos de aplicação dos métodos e parâmetros, tudo muito claro!\n",
    "\n",
    " * https://docs.scipy.org/doc/numpy/reference/index.html\n",
    " * http://pandas.pydata.org/pandas-docs/stable/user_guide/index.html\n",
    " "
   ]
  },
  {
   "cell_type": "markdown",
   "metadata": {},
   "source": [
    "E muito mais!"
   ]
  }
 ],
 "metadata": {
  "kernelspec": {
   "display_name": "Python 3",
   "language": "python",
   "name": "python3"
  },
  "language_info": {
   "codemirror_mode": {
    "name": "ipython",
    "version": 3
   },
   "file_extension": ".py",
   "mimetype": "text/x-python",
   "name": "python",
   "nbconvert_exporter": "python",
   "pygments_lexer": "ipython3",
   "version": "3.7.3"
  }
 },
 "nbformat": 4,
 "nbformat_minor": 2
}
